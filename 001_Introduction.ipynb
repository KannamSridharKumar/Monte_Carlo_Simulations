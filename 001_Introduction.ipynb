{
 "cells": [
  {
   "cell_type": "code",
   "execution_count": 1,
   "metadata": {},
   "outputs": [
    {
     "data": {
      "application/javascript": [
       "\n",
       "            setTimeout(function() {\n",
       "                var nbb_cell_id = 1;\n",
       "                var nbb_unformatted_code = \"%load_ext nb_black\";\n",
       "                var nbb_formatted_code = \"%load_ext nb_black\";\n",
       "                var nbb_cells = Jupyter.notebook.get_cells();\n",
       "                for (var i = 0; i < nbb_cells.length; ++i) {\n",
       "                    if (nbb_cells[i].input_prompt_number == nbb_cell_id) {\n",
       "                        if (nbb_cells[i].get_text() == nbb_unformatted_code) {\n",
       "                             nbb_cells[i].set_text(nbb_formatted_code);\n",
       "                        }\n",
       "                        break;\n",
       "                    }\n",
       "                }\n",
       "            }, 500);\n",
       "            "
      ],
      "text/plain": [
       "<IPython.core.display.Javascript object>"
      ]
     },
     "metadata": {},
     "output_type": "display_data"
    }
   ],
   "source": [
    "%load_ext nb_black"
   ]
  },
  {
   "cell_type": "markdown",
   "metadata": {},
   "source": [
    "<b> <font size=\"6\" color=#006A4E>Monte Carlo Simulations</font> </b>\n",
    "\n",
    "<b> <font size=\"5\" color=#006A4E>Introduction</font> </b>"
   ]
  },
  {
   "cell_type": "markdown",
   "metadata": {},
   "source": [
    "- Predicts all possible outcomes.\n",
    "- Predict the most possible outcome (high confidence) "
   ]
  },
  {
   "cell_type": "markdown",
   "metadata": {},
   "source": [
    " $ y = f(x1, x2, x3, ....., xn) $\n",
    "\n",
    "\n",
    "- Virtual experiments \n",
    "- Randomly sample (stochastic) inputs from distributions.\n",
    "- Compute the outcome\n",
    "- Repeat the experiment many times \n",
    "- Compute the most probable outcomes and confidence scores"
   ]
  },
  {
   "cell_type": "code",
   "execution_count": null,
   "metadata": {},
   "outputs": [],
   "source": []
  },
  {
   "cell_type": "markdown",
   "metadata": {},
   "source": [
    "sales_next_month = $f$(num_customers, interst_rate, num_new_products)\n",
    "\n",
    "\n",
    "num_customers = 1000 + [5 to 10]\n",
    "\n",
    "interest_rate = 5.0% + [0 to 0.5]%\n",
    "\n",
    "num_new_products = 10 + [1, 2]"
   ]
  },
  {
   "cell_type": "code",
   "execution_count": null,
   "metadata": {},
   "outputs": [],
   "source": []
  },
  {
   "cell_type": "markdown",
   "metadata": {},
   "source": [
    "<b> <font size=\"5\" color=#006A4E>Applications</font> </b>\n",
    "\n",
    "**Finance**\n",
    "- Evaluate the risk and uncertainty \n",
    "- Stock price prediction\n",
    "- Portfolio optimisation\n",
    "\n",
    "\n",
    "**Artificial Intellegence**\n",
    "- Optimisation\n",
    "- Search\n",
    "- Games design\n",
    "\n",
    "\n",
    "**Mathematics, Science & Engineering**\n",
    "- New materials design\n",
    "- Measure the properties \n",
    "- Integrations\n",
    "\n"
   ]
  },
  {
   "cell_type": "markdown",
   "metadata": {},
   "source": [
    "<b> <font size=\"5\" color=#006A4E>Concepts</font> </b>\n",
    "- Probablity \n",
    "- Random numbers\n",
    "- Sampling techniques\n",
    "- Probability distributions\n",
    "- Law of large numbers\n",
    "- Experimental/Simulation design\n",
    "\n",
    "\n",
    "\n"
   ]
  },
  {
   "cell_type": "code",
   "execution_count": null,
   "metadata": {},
   "outputs": [],
   "source": []
  }
 ],
 "metadata": {
  "kernelspec": {
   "display_name": "Python 3 (ipykernel)",
   "language": "python",
   "name": "python3"
  },
  "language_info": {
   "codemirror_mode": {
    "name": "ipython",
    "version": 3
   },
   "file_extension": ".py",
   "mimetype": "text/x-python",
   "name": "python",
   "nbconvert_exporter": "python",
   "pygments_lexer": "ipython3",
   "version": "3.8.13"
  },
  "toc": {
   "base_numbering": 0,
   "nav_menu": {},
   "number_sections": false,
   "sideBar": true,
   "skip_h1_title": false,
   "title_cell": "Table of Contents",
   "title_sidebar": "Contents",
   "toc_cell": false,
   "toc_position": {},
   "toc_section_display": true,
   "toc_window_display": false
  }
 },
 "nbformat": 4,
 "nbformat_minor": 2
}
