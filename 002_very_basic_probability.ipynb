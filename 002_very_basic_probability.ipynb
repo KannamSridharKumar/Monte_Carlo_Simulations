{
 "cells": [
  {
   "cell_type": "code",
   "execution_count": 1,
   "metadata": {},
   "outputs": [
    {
     "data": {
      "application/javascript": [
       "\n",
       "            setTimeout(function() {\n",
       "                var nbb_cell_id = 1;\n",
       "                var nbb_unformatted_code = \"%load_ext nb_black\";\n",
       "                var nbb_formatted_code = \"%load_ext nb_black\";\n",
       "                var nbb_cells = Jupyter.notebook.get_cells();\n",
       "                for (var i = 0; i < nbb_cells.length; ++i) {\n",
       "                    if (nbb_cells[i].input_prompt_number == nbb_cell_id) {\n",
       "                        if (nbb_cells[i].get_text() == nbb_unformatted_code) {\n",
       "                             nbb_cells[i].set_text(nbb_formatted_code);\n",
       "                        }\n",
       "                        break;\n",
       "                    }\n",
       "                }\n",
       "            }, 500);\n",
       "            "
      ],
      "text/plain": [
       "<IPython.core.display.Javascript object>"
      ]
     },
     "metadata": {},
     "output_type": "display_data"
    }
   ],
   "source": [
    "%load_ext nb_black"
   ]
  },
  {
   "cell_type": "markdown",
   "metadata": {},
   "source": [
    "<b> <font size=\"6\" color=#006A4E>Monte Carlo Simulations</font> </b>\n",
    "\n",
    "<b> <font size=\"5\" color=#006A4E>Probablities (very basic)</font> </b>"
   ]
  },
  {
   "cell_type": "markdown",
   "metadata": {},
   "source": [
    "Compute the extact probability\n",
    "\n",
    "Probablity = Number of favorable outcomes / Total number of outcomes"
   ]
  },
  {
   "cell_type": "code",
   "execution_count": null,
   "metadata": {},
   "outputs": [],
   "source": []
  },
  {
   "cell_type": "markdown",
   "metadata": {},
   "source": [
    "<b> <font size=\"4\" color=#006A4E>(1) One Coin</font> </b>"
   ]
  },
  {
   "cell_type": "markdown",
   "metadata": {},
   "source": [
    "Possible outcomes = [Heads, Tails] -> [H, T]\n",
    "\n",
    "Number of possible outcomes = 2"
   ]
  },
  {
   "cell_type": "markdown",
   "metadata": {},
   "source": [
    "<b> <font size=\"3\" color=#6495ED  >(1.1) Probability of Heads? </font> </b>\n",
    "\n",
    "Favorable outcomes = [H]\n",
    "\n",
    "Number of favorable outcomes = 1\n",
    "\n",
    "Probability of Heads = 1/2 = 0.5"
   ]
  },
  {
   "cell_type": "markdown",
   "metadata": {},
   "source": [
    "<b> <font size=\"3\" color=#6495ED  >(1.2) Probability of Tails? </font> </b>\n",
    "\n",
    "Favorable outcomes = [T]\n",
    "\n",
    "Number of favorable outcomes = 1\n",
    "\n",
    "Probability of Tails = 1/2 = 0.5"
   ]
  },
  {
   "cell_type": "markdown",
   "metadata": {},
   "source": [
    "<b> <font size=\"4\" color=#006A4E>(2) One Dice</font> </b>"
   ]
  },
  {
   "cell_type": "markdown",
   "metadata": {},
   "source": [
    "Possible outcomes = [1, 2, 3, 4, 5, 6] \n",
    "\n",
    "Number of possible outcomes = 6"
   ]
  },
  {
   "cell_type": "markdown",
   "metadata": {},
   "source": [
    "<b> <font size=\"3\" color=#6495ED  >(2.1) Probability of 3? </font> </b>\n",
    "\n",
    "Favorable outcomes = [3]\n",
    "\n",
    "Number of favorable outcomes = 1\n",
    "\n",
    "Probability = 1/6 = 0.16"
   ]
  },
  {
   "cell_type": "markdown",
   "metadata": {},
   "source": [
    "<b> <font size=\"3\" color=#6495ED  >(2.2) Probability of even number? </font> </b>\n",
    "\n",
    "Favorable outcomes = [2, 4, 6]\n",
    "\n",
    "Number of favorable outcomes = 3\n",
    "\n",
    "Probability = 3/6 = 0.5"
   ]
  },
  {
   "cell_type": "markdown",
   "metadata": {},
   "source": [
    "<b> <font size=\"3\" color=#6495ED  >(2.3) Probability of number less than 5? </font> </b>\n",
    "\n",
    "Favorable outcomes = [1, 2, 3, 4]\n",
    "\n",
    "Number of favorable outcomes = 4\n",
    "\n",
    "Probability = 4/6 = 0.67"
   ]
  },
  {
   "cell_type": "markdown",
   "metadata": {},
   "source": [
    "<b> <font size=\"4\" color=#006A4E>(3) Two Coins</font> </b>"
   ]
  },
  {
   "cell_type": "markdown",
   "metadata": {},
   "source": [
    "Possible outcomes = [HH, HT, TH, TT] \n",
    "\n",
    "Number of possible outcomes = 4"
   ]
  },
  {
   "cell_type": "markdown",
   "metadata": {},
   "source": [
    "<b> <font size=\"3\" color=#6495ED  >(3.1) Probability of atleast one Heads? </font> </b>\n",
    "\n",
    "Favorable outcomes = [HH, HT, TH]\n",
    "\n",
    "Number of favorable outcomes = 3\n",
    "\n",
    "Probability = 3/4 = 0.75"
   ]
  },
  {
   "cell_type": "markdown",
   "metadata": {},
   "source": [
    "<b> <font size=\"3\" color=#6495ED  >(3.2) Probability of two Heads? </font> </b>\n",
    "\n",
    "Favorable outcomes = [HH]\n",
    "\n",
    "Number of favorable outcomes = 1\n",
    "\n",
    "Probability = 1/4 = 0.25"
   ]
  },
  {
   "cell_type": "markdown",
   "metadata": {},
   "source": [
    "<b> <font size=\"3\" color=#6495ED  >(3.3) Probability of one Head and one Tail? </font> </b>\n",
    "\n",
    "Favorable outcomes = [HT, TH]\n",
    "\n",
    "Number of favorable outcomes = 2\n",
    "\n",
    "Probability  = 2/4 = 0.5"
   ]
  },
  {
   "cell_type": "markdown",
   "metadata": {},
   "source": [
    "<b> <font size=\"3\" color=#6495ED  >(3.4) Probability of two Heads or two Tail? </font> </b>\n",
    "\n",
    "Favorable outcomes = [HH, TT]\n",
    "\n",
    "Number of favorable outcomes = 2\n",
    "\n",
    "Probability  = 2/4 = 0.5"
   ]
  },
  {
   "cell_type": "markdown",
   "metadata": {},
   "source": [
    "<b> <font size=\"4\" color=#006A4E>(2) Two Dice</font> </b>"
   ]
  },
  {
   "cell_type": "markdown",
   "metadata": {},
   "source": [
    "Possible outcomes = [\n",
    "\n",
    "    [1,1], [1,2], [1,3], [1,4], [1,5], [1,6],\n",
    "    [2,1], [2,2], [2,3], [2,4], [2,5], [2,6],\n",
    "    [3,1], [3,2], [3,3], [3,4], [3,5], [3,6],\n",
    "    [4,1], [4,2], [4,3], [4,4], [4,5], [4,6],\n",
    "    [5,1], [5,2], [5,3], [5,4], [5,5], [5,6],\n",
    "    [6,1], [6,2], [6,3], [6,4], [6,5], [6,6]\n",
    "] \n",
    "\n",
    "Number of possible outcomes = 36"
   ]
  },
  {
   "cell_type": "markdown",
   "metadata": {},
   "source": [
    "<b> <font size=\"3\" color=#6495ED  >(4.1) Probability of both dice having same number? </font> </b>\n",
    "\n",
    "Favorable outcomes = [[1,1], [2,2], [3,3], [4,4], [5,5], [6,6]]\n",
    "\n",
    "Number of favorable outcomes = 6\n",
    "\n",
    "Probability  = 6/36"
   ]
  },
  {
   "cell_type": "markdown",
   "metadata": {},
   "source": [
    "<b> <font size=\"3\" color=#6495ED  >(4.2) Probability of both dice having even number? </font> </b>\n",
    "\n",
    "Favorable outcomes = [[2,2], [2,4], [2,6], [4,2], [4,4], [4,6], [6,2], [6,4], [6,6]]\n",
    "\n",
    "Number of favorable outcomes = 9\n",
    "\n",
    "Probability  = 9/36 = 0.25"
   ]
  },
  {
   "cell_type": "markdown",
   "metadata": {},
   "source": [
    "<b> <font size=\"3\" color=#6495ED  >(4.3) Probability of one even and one odd number and the \n",
    "total value is greater than 9? </font> </b>\n",
    "\n",
    "Favorable outcomes = [[6,5], [5,6]]\n",
    "\n",
    "Number of favorable outcomes = 2\n",
    "\n",
    "Probability = 2/36 = 0.05"
   ]
  },
  {
   "cell_type": "code",
   "execution_count": 2,
   "metadata": {},
   "outputs": [
    {
     "data": {
      "text/plain": [
       "0.05555555555555555"
      ]
     },
     "execution_count": 2,
     "metadata": {},
     "output_type": "execute_result"
    },
    {
     "data": {
      "application/javascript": [
       "\n",
       "            setTimeout(function() {\n",
       "                var nbb_cell_id = 2;\n",
       "                var nbb_unformatted_code = \"1/18\";\n",
       "                var nbb_formatted_code = \"1 / 18\";\n",
       "                var nbb_cells = Jupyter.notebook.get_cells();\n",
       "                for (var i = 0; i < nbb_cells.length; ++i) {\n",
       "                    if (nbb_cells[i].input_prompt_number == nbb_cell_id) {\n",
       "                        if (nbb_cells[i].get_text() == nbb_unformatted_code) {\n",
       "                             nbb_cells[i].set_text(nbb_formatted_code);\n",
       "                        }\n",
       "                        break;\n",
       "                    }\n",
       "                }\n",
       "            }, 500);\n",
       "            "
      ],
      "text/plain": [
       "<IPython.core.display.Javascript object>"
      ]
     },
     "metadata": {},
     "output_type": "display_data"
    }
   ],
   "source": [
    "1 / 18"
   ]
  },
  {
   "cell_type": "code",
   "execution_count": null,
   "metadata": {},
   "outputs": [],
   "source": []
  }
 ],
 "metadata": {
  "kernelspec": {
   "display_name": "Python 3 (ipykernel)",
   "language": "python",
   "name": "python3"
  },
  "language_info": {
   "codemirror_mode": {
    "name": "ipython",
    "version": 3
   },
   "file_extension": ".py",
   "mimetype": "text/x-python",
   "name": "python",
   "nbconvert_exporter": "python",
   "pygments_lexer": "ipython3",
   "version": "3.8.13"
  },
  "toc": {
   "base_numbering": 0,
   "nav_menu": {},
   "number_sections": false,
   "sideBar": true,
   "skip_h1_title": false,
   "title_cell": "Table of Contents",
   "title_sidebar": "Contents",
   "toc_cell": false,
   "toc_position": {},
   "toc_section_display": true,
   "toc_window_display": false
  }
 },
 "nbformat": 4,
 "nbformat_minor": 2
}
