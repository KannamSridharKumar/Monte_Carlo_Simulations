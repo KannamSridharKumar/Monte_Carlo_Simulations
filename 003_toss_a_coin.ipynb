{
 "cells": [
  {
   "cell_type": "code",
   "execution_count": 2,
   "metadata": {},
   "outputs": [
    {
     "data": {
      "application/javascript": [
       "\n",
       "            setTimeout(function() {\n",
       "                var nbb_cell_id = 2;\n",
       "                var nbb_unformatted_code = \"%load_ext nb_black\";\n",
       "                var nbb_formatted_code = \"%load_ext nb_black\";\n",
       "                var nbb_cells = Jupyter.notebook.get_cells();\n",
       "                for (var i = 0; i < nbb_cells.length; ++i) {\n",
       "                    if (nbb_cells[i].input_prompt_number == nbb_cell_id) {\n",
       "                        if (nbb_cells[i].get_text() == nbb_unformatted_code) {\n",
       "                             nbb_cells[i].set_text(nbb_formatted_code);\n",
       "                        }\n",
       "                        break;\n",
       "                    }\n",
       "                }\n",
       "            }, 500);\n",
       "            "
      ],
      "text/plain": [
       "<IPython.core.display.Javascript object>"
      ]
     },
     "metadata": {},
     "output_type": "display_data"
    }
   ],
   "source": [
    "%load_ext nb_black"
   ]
  },
  {
   "cell_type": "markdown",
   "metadata": {},
   "source": [
    "<b> <font size=\"6\" color=#006A4E>Monte Carlo Simulations</font> </b>\n",
    "\n",
    "<b> <font size=\"5\" color=#006A4E>Toss a coin</font> </b>"
   ]
  },
  {
   "cell_type": "markdown",
   "metadata": {},
   "source": [
    "Exact Probablity = Number of favorable outcomes / Total number of outcomes"
   ]
  },
  {
   "cell_type": "markdown",
   "metadata": {},
   "source": [
    "Observed Probability = Number of trials with favorable outcomes/Total number of trails \n",
    "\n",
    "Trials - experiments or simulations"
   ]
  },
  {
   "cell_type": "code",
   "execution_count": 3,
   "metadata": {},
   "outputs": [
    {
     "data": {
      "application/javascript": [
       "\n",
       "            setTimeout(function() {\n",
       "                var nbb_cell_id = 3;\n",
       "                var nbb_unformatted_code = \"import random\\nimport numpy as np\\nimport matplotlib.pyplot as plt\\nplt.style.use(\\\"fivethirtyeight\\\")\";\n",
       "                var nbb_formatted_code = \"import random\\nimport numpy as np\\nimport matplotlib.pyplot as plt\\n\\nplt.style.use(\\\"fivethirtyeight\\\")\";\n",
       "                var nbb_cells = Jupyter.notebook.get_cells();\n",
       "                for (var i = 0; i < nbb_cells.length; ++i) {\n",
       "                    if (nbb_cells[i].input_prompt_number == nbb_cell_id) {\n",
       "                        if (nbb_cells[i].get_text() == nbb_unformatted_code) {\n",
       "                             nbb_cells[i].set_text(nbb_formatted_code);\n",
       "                        }\n",
       "                        break;\n",
       "                    }\n",
       "                }\n",
       "            }, 500);\n",
       "            "
      ],
      "text/plain": [
       "<IPython.core.display.Javascript object>"
      ]
     },
     "metadata": {},
     "output_type": "display_data"
    }
   ],
   "source": [
    "import random\n",
    "import numpy as np\n",
    "import matplotlib.pyplot as plt\n",
    "\n",
    "plt.style.use(\"fivethirtyeight\")"
   ]
  },
  {
   "cell_type": "markdown",
   "metadata": {},
   "source": [
    "<b> <font size=\"3\" color=#6495ED > Probability of Heads? </font> </b>"
   ]
  },
  {
   "cell_type": "code",
   "execution_count": 4,
   "metadata": {},
   "outputs": [
    {
     "name": "stdout",
     "output_type": "stream",
     "text": [
      "expected probablity:  0.5\n"
     ]
    },
    {
     "data": {
      "application/javascript": [
       "\n",
       "            setTimeout(function() {\n",
       "                var nbb_cell_id = 4;\n",
       "                var nbb_unformatted_code = \"possible_outcomes = [\\\"H\\\", \\\"T\\\"]\\nfavorable_outcomes = [\\\"H\\\"]\\nexpected_probablity = len(favorable_outcomes) / len(possible_outcomes)\\nprint(\\\"expected probablity: \\\", expected_probablity)\";\n",
       "                var nbb_formatted_code = \"possible_outcomes = [\\\"H\\\", \\\"T\\\"]\\nfavorable_outcomes = [\\\"H\\\"]\\nexpected_probablity = len(favorable_outcomes) / len(possible_outcomes)\\nprint(\\\"expected probablity: \\\", expected_probablity)\";\n",
       "                var nbb_cells = Jupyter.notebook.get_cells();\n",
       "                for (var i = 0; i < nbb_cells.length; ++i) {\n",
       "                    if (nbb_cells[i].input_prompt_number == nbb_cell_id) {\n",
       "                        if (nbb_cells[i].get_text() == nbb_unformatted_code) {\n",
       "                             nbb_cells[i].set_text(nbb_formatted_code);\n",
       "                        }\n",
       "                        break;\n",
       "                    }\n",
       "                }\n",
       "            }, 500);\n",
       "            "
      ],
      "text/plain": [
       "<IPython.core.display.Javascript object>"
      ]
     },
     "metadata": {},
     "output_type": "display_data"
    }
   ],
   "source": [
    "possible_outcomes = [\"H\", \"T\"]\n",
    "favorable_outcomes = [\"H\"]\n",
    "expected_probablity = len(favorable_outcomes) / len(possible_outcomes)\n",
    "print(\"expected probablity: \", expected_probablity)"
   ]
  },
  {
   "cell_type": "code",
   "execution_count": 5,
   "metadata": {},
   "outputs": [
    {
     "name": "stdout",
     "output_type": "stream",
     "text": [
      "Number of Trials:  1\n",
      "Trial Outcome:  ['T']\n",
      "Number of favorable outcome:  0\n",
      "Oberved Probability:  0.0\n"
     ]
    },
    {
     "data": {
      "application/javascript": [
       "\n",
       "            setTimeout(function() {\n",
       "                var nbb_cell_id = 5;\n",
       "                var nbb_unformatted_code = \"num_trails = 1\\nprint(\\\"Number of Trials: \\\", num_trails)\\noutcomes = random.choices(possible_outcomes, k=num_trails)\\nprint(\\\"Trial Outcome: \\\", outcomes)\\nfav_outcomes = outcomes.count(\\\"H\\\")\\nprint(\\\"Number of favorable outcome: \\\", fav_outcomes)\\nobserved_prob = fav_outcomes / num_trails\\nprint(\\\"Oberved Probability: \\\", observed_prob)\";\n",
       "                var nbb_formatted_code = \"num_trails = 1\\nprint(\\\"Number of Trials: \\\", num_trails)\\noutcomes = random.choices(possible_outcomes, k=num_trails)\\nprint(\\\"Trial Outcome: \\\", outcomes)\\nfav_outcomes = outcomes.count(\\\"H\\\")\\nprint(\\\"Number of favorable outcome: \\\", fav_outcomes)\\nobserved_prob = fav_outcomes / num_trails\\nprint(\\\"Oberved Probability: \\\", observed_prob)\";\n",
       "                var nbb_cells = Jupyter.notebook.get_cells();\n",
       "                for (var i = 0; i < nbb_cells.length; ++i) {\n",
       "                    if (nbb_cells[i].input_prompt_number == nbb_cell_id) {\n",
       "                        if (nbb_cells[i].get_text() == nbb_unformatted_code) {\n",
       "                             nbb_cells[i].set_text(nbb_formatted_code);\n",
       "                        }\n",
       "                        break;\n",
       "                    }\n",
       "                }\n",
       "            }, 500);\n",
       "            "
      ],
      "text/plain": [
       "<IPython.core.display.Javascript object>"
      ]
     },
     "metadata": {},
     "output_type": "display_data"
    }
   ],
   "source": [
    "num_trails = 1\n",
    "print(\"Number of Trials: \", num_trails)\n",
    "outcomes = random.choices(possible_outcomes, k=num_trails)\n",
    "print(\"Trial Outcome: \", outcomes)\n",
    "fav_outcomes = outcomes.count(\"H\")\n",
    "print(\"Number of favorable outcome: \", fav_outcomes)\n",
    "observed_prob = fav_outcomes / num_trails\n",
    "print(\"Oberved Probability: \", observed_prob)"
   ]
  },
  {
   "cell_type": "code",
   "execution_count": 7,
   "metadata": {},
   "outputs": [
    {
     "name": "stdout",
     "output_type": "stream",
     "text": [
      "Number of Trials:  2\n",
      "Trial Outcome:  ['T', 'T']\n",
      "Number of favorable outcome:  0\n",
      "Oberved Probability:  0.0\n"
     ]
    },
    {
     "data": {
      "application/javascript": [
       "\n",
       "            setTimeout(function() {\n",
       "                var nbb_cell_id = 7;\n",
       "                var nbb_unformatted_code = \"num_trails = 2\\nprint(\\\"Number of Trials: \\\", num_trails)\\noutcomes = random.choices(possible_outcomes, k=num_trails)\\nprint(\\\"Trial Outcome: \\\", outcomes)\\nfav_outcomes = outcomes.count(\\\"H\\\")\\nprint(\\\"Number of favorable outcome: \\\", fav_outcomes)\\nobserved_prob = fav_outcomes / num_trails\\nprint(\\\"Oberved Probability: \\\", observed_prob)\";\n",
       "                var nbb_formatted_code = \"num_trails = 2\\nprint(\\\"Number of Trials: \\\", num_trails)\\noutcomes = random.choices(possible_outcomes, k=num_trails)\\nprint(\\\"Trial Outcome: \\\", outcomes)\\nfav_outcomes = outcomes.count(\\\"H\\\")\\nprint(\\\"Number of favorable outcome: \\\", fav_outcomes)\\nobserved_prob = fav_outcomes / num_trails\\nprint(\\\"Oberved Probability: \\\", observed_prob)\";\n",
       "                var nbb_cells = Jupyter.notebook.get_cells();\n",
       "                for (var i = 0; i < nbb_cells.length; ++i) {\n",
       "                    if (nbb_cells[i].input_prompt_number == nbb_cell_id) {\n",
       "                        if (nbb_cells[i].get_text() == nbb_unformatted_code) {\n",
       "                             nbb_cells[i].set_text(nbb_formatted_code);\n",
       "                        }\n",
       "                        break;\n",
       "                    }\n",
       "                }\n",
       "            }, 500);\n",
       "            "
      ],
      "text/plain": [
       "<IPython.core.display.Javascript object>"
      ]
     },
     "metadata": {},
     "output_type": "display_data"
    }
   ],
   "source": [
    "num_trails = 2\n",
    "print(\"Number of Trials: \", num_trails)\n",
    "outcomes = random.choices(possible_outcomes, k=num_trails)\n",
    "print(\"Trial Outcome: \", outcomes)\n",
    "fav_outcomes = outcomes.count(\"H\")\n",
    "print(\"Number of favorable outcome: \", fav_outcomes)\n",
    "observed_prob = fav_outcomes / num_trails\n",
    "print(\"Oberved Probability: \", observed_prob)"
   ]
  },
  {
   "cell_type": "code",
   "execution_count": 10,
   "metadata": {},
   "outputs": [
    {
     "name": "stdout",
     "output_type": "stream",
     "text": [
      "Number of Trials:  3\n",
      "Trial Outcome:  ['H', 'H', 'H']\n",
      "Number of favorable outcome:  3\n",
      "Oberved Probability:  1.0\n"
     ]
    },
    {
     "data": {
      "application/javascript": [
       "\n",
       "            setTimeout(function() {\n",
       "                var nbb_cell_id = 10;\n",
       "                var nbb_unformatted_code = \"num_trails = 3\\nprint(\\\"Number of Trials: \\\", num_trails)\\noutcomes = random.choices(possible_outcomes, k=num_trails)\\nprint(\\\"Trial Outcome: \\\", outcomes)\\nfav_outcomes = outcomes.count(\\\"H\\\")\\nprint(\\\"Number of favorable outcome: \\\", fav_outcomes)\\nobserved_prob = fav_outcomes / num_trails\\nprint(\\\"Oberved Probability: \\\", observed_prob)\";\n",
       "                var nbb_formatted_code = \"num_trails = 3\\nprint(\\\"Number of Trials: \\\", num_trails)\\noutcomes = random.choices(possible_outcomes, k=num_trails)\\nprint(\\\"Trial Outcome: \\\", outcomes)\\nfav_outcomes = outcomes.count(\\\"H\\\")\\nprint(\\\"Number of favorable outcome: \\\", fav_outcomes)\\nobserved_prob = fav_outcomes / num_trails\\nprint(\\\"Oberved Probability: \\\", observed_prob)\";\n",
       "                var nbb_cells = Jupyter.notebook.get_cells();\n",
       "                for (var i = 0; i < nbb_cells.length; ++i) {\n",
       "                    if (nbb_cells[i].input_prompt_number == nbb_cell_id) {\n",
       "                        if (nbb_cells[i].get_text() == nbb_unformatted_code) {\n",
       "                             nbb_cells[i].set_text(nbb_formatted_code);\n",
       "                        }\n",
       "                        break;\n",
       "                    }\n",
       "                }\n",
       "            }, 500);\n",
       "            "
      ],
      "text/plain": [
       "<IPython.core.display.Javascript object>"
      ]
     },
     "metadata": {},
     "output_type": "display_data"
    }
   ],
   "source": [
    "num_trails = 3\n",
    "print(\"Number of Trials: \", num_trails)\n",
    "outcomes = random.choices(possible_outcomes, k=num_trails)\n",
    "print(\"Trial Outcome: \", outcomes)\n",
    "fav_outcomes = outcomes.count(\"H\")\n",
    "print(\"Number of favorable outcome: \", fav_outcomes)\n",
    "observed_prob = fav_outcomes / num_trails\n",
    "print(\"Oberved Probability: \", observed_prob)"
   ]
  },
  {
   "cell_type": "code",
   "execution_count": 11,
   "metadata": {},
   "outputs": [
    {
     "name": "stdout",
     "output_type": "stream",
     "text": [
      "Number of Trials:  4\n",
      "Trial Outcome:  ['H', 'T', 'H', 'H']\n",
      "Number of favorable outcome:  3\n",
      "Oberved Probability:  0.75\n"
     ]
    },
    {
     "data": {
      "application/javascript": [
       "\n",
       "            setTimeout(function() {\n",
       "                var nbb_cell_id = 11;\n",
       "                var nbb_unformatted_code = \"num_trails = 4\\nprint(\\\"Number of Trials: \\\", num_trails)\\noutcomes = random.choices(possible_outcomes, k=num_trails)\\nprint(\\\"Trial Outcome: \\\", outcomes)\\nfav_outcomes = outcomes.count(\\\"H\\\")\\nprint(\\\"Number of favorable outcome: \\\", fav_outcomes)\\nobserved_prob = fav_outcomes / num_trails\\nprint(\\\"Oberved Probability: \\\", observed_prob)\";\n",
       "                var nbb_formatted_code = \"num_trails = 4\\nprint(\\\"Number of Trials: \\\", num_trails)\\noutcomes = random.choices(possible_outcomes, k=num_trails)\\nprint(\\\"Trial Outcome: \\\", outcomes)\\nfav_outcomes = outcomes.count(\\\"H\\\")\\nprint(\\\"Number of favorable outcome: \\\", fav_outcomes)\\nobserved_prob = fav_outcomes / num_trails\\nprint(\\\"Oberved Probability: \\\", observed_prob)\";\n",
       "                var nbb_cells = Jupyter.notebook.get_cells();\n",
       "                for (var i = 0; i < nbb_cells.length; ++i) {\n",
       "                    if (nbb_cells[i].input_prompt_number == nbb_cell_id) {\n",
       "                        if (nbb_cells[i].get_text() == nbb_unformatted_code) {\n",
       "                             nbb_cells[i].set_text(nbb_formatted_code);\n",
       "                        }\n",
       "                        break;\n",
       "                    }\n",
       "                }\n",
       "            }, 500);\n",
       "            "
      ],
      "text/plain": [
       "<IPython.core.display.Javascript object>"
      ]
     },
     "metadata": {},
     "output_type": "display_data"
    }
   ],
   "source": [
    "num_trails = 4\n",
    "print(\"Number of Trials: \", num_trails)\n",
    "outcomes = random.choices(possible_outcomes, k=num_trails)\n",
    "print(\"Trial Outcome: \", outcomes)\n",
    "fav_outcomes = outcomes.count(\"H\")\n",
    "print(\"Number of favorable outcome: \", fav_outcomes)\n",
    "observed_prob = fav_outcomes / num_trails\n",
    "print(\"Oberved Probability: \", observed_prob)"
   ]
  },
  {
   "cell_type": "code",
   "execution_count": 25,
   "metadata": {},
   "outputs": [
    {
     "name": "stdout",
     "output_type": "stream",
     "text": [
      "# Trails 1, # Fav: 1, Prob: 1.0\n",
      "# Trails 2, # Fav: 2, Prob: 1.0\n",
      "# Trails 3, # Fav: 1, Prob: 0.3333333333333333\n",
      "# Trails 4, # Fav: 2, Prob: 0.5\n",
      "# Trails 5, # Fav: 3, Prob: 0.6\n",
      "# Trails 6, # Fav: 1, Prob: 0.16666666666666666\n",
      "# Trails 7, # Fav: 3, Prob: 0.42857142857142855\n",
      "# Trails 8, # Fav: 4, Prob: 0.5\n",
      "# Trails 9, # Fav: 4, Prob: 0.4444444444444444\n",
      "# Trails 10, # Fav: 4, Prob: 0.4\n",
      "# Trails 11, # Fav: 4, Prob: 0.36363636363636365\n",
      "# Trails 12, # Fav: 3, Prob: 0.25\n",
      "# Trails 13, # Fav: 8, Prob: 0.6153846153846154\n",
      "# Trails 14, # Fav: 8, Prob: 0.5714285714285714\n",
      "# Trails 15, # Fav: 7, Prob: 0.4666666666666667\n",
      "# Trails 16, # Fav: 8, Prob: 0.5\n",
      "# Trails 17, # Fav: 10, Prob: 0.5882352941176471\n",
      "# Trails 18, # Fav: 12, Prob: 0.6666666666666666\n",
      "# Trails 19, # Fav: 7, Prob: 0.3684210526315789\n",
      "# Trails 20, # Fav: 8, Prob: 0.4\n",
      "# Trails 21, # Fav: 10, Prob: 0.47619047619047616\n",
      "# Trails 22, # Fav: 10, Prob: 0.45454545454545453\n",
      "# Trails 23, # Fav: 9, Prob: 0.391304347826087\n",
      "# Trails 24, # Fav: 10, Prob: 0.4166666666666667\n",
      "# Trails 25, # Fav: 13, Prob: 0.52\n",
      "# Trails 26, # Fav: 15, Prob: 0.5769230769230769\n",
      "# Trails 27, # Fav: 14, Prob: 0.5185185185185185\n",
      "# Trails 28, # Fav: 8, Prob: 0.2857142857142857\n",
      "# Trails 29, # Fav: 16, Prob: 0.5517241379310345\n",
      "# Trails 30, # Fav: 14, Prob: 0.4666666666666667\n",
      "# Trails 31, # Fav: 12, Prob: 0.3870967741935484\n",
      "# Trails 32, # Fav: 20, Prob: 0.625\n",
      "# Trails 33, # Fav: 19, Prob: 0.5757575757575758\n",
      "# Trails 34, # Fav: 22, Prob: 0.6470588235294118\n",
      "# Trails 35, # Fav: 19, Prob: 0.5428571428571428\n",
      "# Trails 36, # Fav: 13, Prob: 0.3611111111111111\n",
      "# Trails 37, # Fav: 17, Prob: 0.4594594594594595\n",
      "# Trails 38, # Fav: 22, Prob: 0.5789473684210527\n",
      "# Trails 39, # Fav: 23, Prob: 0.5897435897435898\n",
      "# Trails 40, # Fav: 19, Prob: 0.475\n",
      "# Trails 41, # Fav: 23, Prob: 0.5609756097560976\n",
      "# Trails 42, # Fav: 20, Prob: 0.47619047619047616\n",
      "# Trails 43, # Fav: 22, Prob: 0.5116279069767442\n",
      "# Trails 44, # Fav: 25, Prob: 0.5681818181818182\n",
      "# Trails 45, # Fav: 25, Prob: 0.5555555555555556\n",
      "# Trails 46, # Fav: 24, Prob: 0.5217391304347826\n",
      "# Trails 47, # Fav: 22, Prob: 0.46808510638297873\n",
      "# Trails 48, # Fav: 19, Prob: 0.3958333333333333\n",
      "# Trails 49, # Fav: 24, Prob: 0.4897959183673469\n",
      "# Trails 50, # Fav: 23, Prob: 0.46\n",
      "# Trails 51, # Fav: 21, Prob: 0.4117647058823529\n",
      "# Trails 52, # Fav: 34, Prob: 0.6538461538461539\n",
      "# Trails 53, # Fav: 28, Prob: 0.5283018867924528\n",
      "# Trails 54, # Fav: 26, Prob: 0.48148148148148145\n",
      "# Trails 55, # Fav: 24, Prob: 0.43636363636363634\n",
      "# Trails 56, # Fav: 19, Prob: 0.3392857142857143\n",
      "# Trails 57, # Fav: 32, Prob: 0.5614035087719298\n",
      "# Trails 58, # Fav: 23, Prob: 0.39655172413793105\n",
      "# Trails 59, # Fav: 29, Prob: 0.4915254237288136\n",
      "# Trails 60, # Fav: 22, Prob: 0.36666666666666664\n",
      "# Trails 61, # Fav: 26, Prob: 0.4262295081967213\n",
      "# Trails 62, # Fav: 39, Prob: 0.6290322580645161\n",
      "# Trails 63, # Fav: 37, Prob: 0.5873015873015873\n",
      "# Trails 64, # Fav: 33, Prob: 0.515625\n",
      "# Trails 65, # Fav: 31, Prob: 0.47692307692307695\n",
      "# Trails 66, # Fav: 34, Prob: 0.5151515151515151\n",
      "# Trails 67, # Fav: 37, Prob: 0.5522388059701493\n",
      "# Trails 68, # Fav: 29, Prob: 0.4264705882352941\n",
      "# Trails 69, # Fav: 41, Prob: 0.5942028985507246\n",
      "# Trails 70, # Fav: 30, Prob: 0.42857142857142855\n",
      "# Trails 71, # Fav: 33, Prob: 0.4647887323943662\n",
      "# Trails 72, # Fav: 38, Prob: 0.5277777777777778\n",
      "# Trails 73, # Fav: 42, Prob: 0.5753424657534246\n",
      "# Trails 74, # Fav: 37, Prob: 0.5\n",
      "# Trails 75, # Fav: 36, Prob: 0.48\n",
      "# Trails 76, # Fav: 38, Prob: 0.5\n",
      "# Trails 77, # Fav: 34, Prob: 0.44155844155844154\n",
      "# Trails 78, # Fav: 38, Prob: 0.48717948717948717\n",
      "# Trails 79, # Fav: 46, Prob: 0.5822784810126582\n",
      "# Trails 80, # Fav: 41, Prob: 0.5125\n",
      "# Trails 81, # Fav: 41, Prob: 0.5061728395061729\n",
      "# Trails 82, # Fav: 33, Prob: 0.4024390243902439\n",
      "# Trails 83, # Fav: 41, Prob: 0.4939759036144578\n",
      "# Trails 84, # Fav: 38, Prob: 0.4523809523809524\n",
      "# Trails 85, # Fav: 41, Prob: 0.4823529411764706\n",
      "# Trails 86, # Fav: 38, Prob: 0.4418604651162791\n",
      "# Trails 87, # Fav: 44, Prob: 0.5057471264367817\n",
      "# Trails 88, # Fav: 48, Prob: 0.5454545454545454\n",
      "# Trails 89, # Fav: 43, Prob: 0.48314606741573035\n",
      "# Trails 90, # Fav: 51, Prob: 0.5666666666666667\n",
      "# Trails 91, # Fav: 37, Prob: 0.4065934065934066\n",
      "# Trails 92, # Fav: 45, Prob: 0.4891304347826087\n",
      "# Trails 93, # Fav: 47, Prob: 0.5053763440860215\n",
      "# Trails 94, # Fav: 42, Prob: 0.44680851063829785\n",
      "# Trails 95, # Fav: 40, Prob: 0.42105263157894735\n",
      "# Trails 96, # Fav: 50, Prob: 0.5208333333333334\n",
      "# Trails 97, # Fav: 37, Prob: 0.38144329896907214\n",
      "# Trails 98, # Fav: 49, Prob: 0.5\n",
      "# Trails 99, # Fav: 43, Prob: 0.43434343434343436\n"
     ]
    },
    {
     "data": {
      "application/javascript": [
       "\n",
       "            setTimeout(function() {\n",
       "                var nbb_cell_id = 25;\n",
       "                var nbb_unformatted_code = \"max_trails = 100\\n\\nobserved_prob_lst = []\\n\\nfor num_trails in range(1, max_trails):\\n    outcomes = random.choices(possible_outcomes, k=num_trails)\\n    fav_outcomes = outcomes.count(\\\"H\\\")\\n    observed_prob = fav_outcomes / num_trails\\n\\n    observed_prob_lst.append(observed_prob)\\n\\n    print(\\n        \\\"# Trails {}, # Fav: {}, Prob: {}\\\".format(\\n            num_trails, fav_outcomes, observed_prob\\n        )\\n    )\";\n",
       "                var nbb_formatted_code = \"max_trails = 100\\n\\nobserved_prob_lst = []\\n\\nfor num_trails in range(1, max_trails):\\n    outcomes = random.choices(possible_outcomes, k=num_trails)\\n    fav_outcomes = outcomes.count(\\\"H\\\")\\n    observed_prob = fav_outcomes / num_trails\\n\\n    observed_prob_lst.append(observed_prob)\\n\\n    print(\\n        \\\"# Trails {}, # Fav: {}, Prob: {}\\\".format(\\n            num_trails, fav_outcomes, observed_prob\\n        )\\n    )\";\n",
       "                var nbb_cells = Jupyter.notebook.get_cells();\n",
       "                for (var i = 0; i < nbb_cells.length; ++i) {\n",
       "                    if (nbb_cells[i].input_prompt_number == nbb_cell_id) {\n",
       "                        if (nbb_cells[i].get_text() == nbb_unformatted_code) {\n",
       "                             nbb_cells[i].set_text(nbb_formatted_code);\n",
       "                        }\n",
       "                        break;\n",
       "                    }\n",
       "                }\n",
       "            }, 500);\n",
       "            "
      ],
      "text/plain": [
       "<IPython.core.display.Javascript object>"
      ]
     },
     "metadata": {},
     "output_type": "display_data"
    }
   ],
   "source": [
    "max_trails = 100\n",
    "\n",
    "observed_prob_lst = []\n",
    "\n",
    "for num_trails in range(1, max_trails):\n",
    "    outcomes = random.choices(possible_outcomes, k=num_trails)\n",
    "    fav_outcomes = outcomes.count(\"H\")\n",
    "    observed_prob = fav_outcomes / num_trails\n",
    "\n",
    "    observed_prob_lst.append(observed_prob)\n",
    "\n",
    "    print(\n",
    "        \"# Trails {}, # Fav: {}, Prob: {}\".format(\n",
    "            num_trails, fav_outcomes, observed_prob\n",
    "        )\n",
    "    )"
   ]
  },
  {
   "cell_type": "code",
   "execution_count": 16,
   "metadata": {},
   "outputs": [
    {
     "data": {
      "text/plain": [
       "Text(0.5, 0.98, 'Max Trials: 100')"
      ]
     },
     "execution_count": 16,
     "metadata": {},
     "output_type": "execute_result"
    },
    {
     "data": {
      "image/png": "[encoded data removed]",
      "text/plain": [
       "<Figure size 432x288 with 1 Axes>"
      ]
     },
     "metadata": {},
     "output_type": "display_data"
    },
    {
     "data": {
      "application/javascript": [
       "\n",
       "            setTimeout(function() {\n",
       "                var nbb_cell_id = 16;\n",
       "                var nbb_unformatted_code = \"plt.plot(num_trails_lst, observed_prob_lst)\\nplt.axhline(\\n    0.5, color=\\\"tab:red\\\", linestyle=\\\"dashed\\\", linewidth=2,\\n)\\nplt.xlabel(\\\"Number of Trials\\\")\\nplt.ylabel(\\\"Observed Probablity\\\")\\nplt.suptitle(\\\"Max Trials: \\\" + str(max_trails))\";\n",
       "                var nbb_formatted_code = \"plt.plot(num_trails_lst, observed_prob_lst)\\nplt.axhline(\\n    0.5, color=\\\"tab:red\\\", linestyle=\\\"dashed\\\", linewidth=2,\\n)\\nplt.xlabel(\\\"Number of Trials\\\")\\nplt.ylabel(\\\"Observed Probablity\\\")\\nplt.suptitle(\\\"Max Trials: \\\" + str(max_trails))\";\n",
       "                var nbb_cells = Jupyter.notebook.get_cells();\n",
       "                for (var i = 0; i < nbb_cells.length; ++i) {\n",
       "                    if (nbb_cells[i].input_prompt_number == nbb_cell_id) {\n",
       "                        if (nbb_cells[i].get_text() == nbb_unformatted_code) {\n",
       "                             nbb_cells[i].set_text(nbb_formatted_code);\n",
       "                        }\n",
       "                        break;\n",
       "                    }\n",
       "                }\n",
       "            }, 500);\n",
       "            "
      ],
      "text/plain": [
       "<IPython.core.display.Javascript object>"
      ]
     },
     "metadata": {},
     "output_type": "display_data"
    }
   ],
   "source": [
    "plt.plot(num_trails_lst, observed_prob_lst)\n",
    "plt.axhline(\n",
    "    0.5, color=\"tab:red\", linestyle=\"dashed\", linewidth=2,\n",
    ")\n",
    "plt.xlabel(\"Number of Trials\")\n",
    "plt.ylabel(\"Observed Probablity\")\n",
    "plt.suptitle(\"Max Trials: \" + str(max_trails))"
   ]
  },
  {
   "cell_type": "code",
   "execution_count": 18,
   "metadata": {},
   "outputs": [
    {
     "data": {
      "text/plain": [
       "Text(0.5, 0.98, 'Max Trials: 1000')"
      ]
     },
     "execution_count": 18,
     "metadata": {},
     "output_type": "execute_result"
    },
    {
     "data": {
      "image/png": "[encoded data removed]",
      "text/plain": [
       "<Figure size 432x288 with 1 Axes>"
      ]
     },
     "metadata": {},
     "output_type": "display_data"
    },
    {
     "data": {
      "application/javascript": [
       "\n",
       "            setTimeout(function() {\n",
       "                var nbb_cell_id = 18;\n",
       "                var nbb_unformatted_code = \"plt.plot(num_trails_lst, observed_prob_lst)\\nplt.axhline(\\n    0.5, color=\\\"tab:red\\\", linestyle=\\\"dashed\\\", linewidth=2,\\n)\\nplt.xlabel(\\\"Number of Trials\\\")\\nplt.ylabel(\\\"Observed Probablity\\\")\\nplt.suptitle(\\\"Max Trials: \\\" + str(max_trails))\";\n",
       "                var nbb_formatted_code = \"plt.plot(num_trails_lst, observed_prob_lst)\\nplt.axhline(\\n    0.5, color=\\\"tab:red\\\", linestyle=\\\"dashed\\\", linewidth=2,\\n)\\nplt.xlabel(\\\"Number of Trials\\\")\\nplt.ylabel(\\\"Observed Probablity\\\")\\nplt.suptitle(\\\"Max Trials: \\\" + str(max_trails))\";\n",
       "                var nbb_cells = Jupyter.notebook.get_cells();\n",
       "                for (var i = 0; i < nbb_cells.length; ++i) {\n",
       "                    if (nbb_cells[i].input_prompt_number == nbb_cell_id) {\n",
       "                        if (nbb_cells[i].get_text() == nbb_unformatted_code) {\n",
       "                             nbb_cells[i].set_text(nbb_formatted_code);\n",
       "                        }\n",
       "                        break;\n",
       "                    }\n",
       "                }\n",
       "            }, 500);\n",
       "            "
      ],
      "text/plain": [
       "<IPython.core.display.Javascript object>"
      ]
     },
     "metadata": {},
     "output_type": "display_data"
    }
   ],
   "source": [
    "plt.plot(num_trails_lst, observed_prob_lst)\n",
    "plt.axhline(\n",
    "    0.5, color=\"tab:red\", linestyle=\"dashed\", linewidth=2,\n",
    ")\n",
    "plt.xlabel(\"Number of Trials\")\n",
    "plt.ylabel(\"Observed Probablity\")\n",
    "plt.suptitle(\"Max Trials: \" + str(max_trails))"
   ]
  },
  {
   "cell_type": "code",
   "execution_count": 20,
   "metadata": {},
   "outputs": [
    {
     "data": {
      "text/plain": [
       "Text(0.5, 0.98, 'Max Trials: 10000')"
      ]
     },
     "execution_count": 20,
     "metadata": {},
     "output_type": "execute_result"
    },
    {
     "data": {
      "image/png": "[encoded data removed]",
      "text/plain": [
       "<Figure size 432x288 with 1 Axes>"
      ]
     },
     "metadata": {},
     "output_type": "display_data"
    },
    {
     "data": {
      "application/javascript": [
       "\n",
       "            setTimeout(function() {\n",
       "                var nbb_cell_id = 20;\n",
       "                var nbb_unformatted_code = \"plt.plot(num_trails_lst, observed_prob_lst)\\nplt.axhline(\\n    0.5, color=\\\"tab:red\\\", linestyle=\\\"dashed\\\", linewidth=2,\\n)\\nplt.xlabel(\\\"Number of Trials\\\")\\nplt.ylabel(\\\"Observed Probablity\\\")\\nplt.suptitle(\\\"Max Trials: \\\" + str(max_trails))\";\n",
       "                var nbb_formatted_code = \"plt.plot(num_trails_lst, observed_prob_lst)\\nplt.axhline(\\n    0.5, color=\\\"tab:red\\\", linestyle=\\\"dashed\\\", linewidth=2,\\n)\\nplt.xlabel(\\\"Number of Trials\\\")\\nplt.ylabel(\\\"Observed Probablity\\\")\\nplt.suptitle(\\\"Max Trials: \\\" + str(max_trails))\";\n",
       "                var nbb_cells = Jupyter.notebook.get_cells();\n",
       "                for (var i = 0; i < nbb_cells.length; ++i) {\n",
       "                    if (nbb_cells[i].input_prompt_number == nbb_cell_id) {\n",
       "                        if (nbb_cells[i].get_text() == nbb_unformatted_code) {\n",
       "                             nbb_cells[i].set_text(nbb_formatted_code);\n",
       "                        }\n",
       "                        break;\n",
       "                    }\n",
       "                }\n",
       "            }, 500);\n",
       "            "
      ],
      "text/plain": [
       "<IPython.core.display.Javascript object>"
      ]
     },
     "metadata": {},
     "output_type": "display_data"
    }
   ],
   "source": [
    "plt.plot(num_trails_lst, observed_prob_lst)\n",
    "plt.axhline(\n",
    "    0.5, color=\"tab:red\", linestyle=\"dashed\", linewidth=2,\n",
    ")\n",
    "plt.xlabel(\"Number of Trials\")\n",
    "plt.ylabel(\"Observed Probablity\")\n",
    "plt.suptitle(\"Max Trials: \" + str(max_trails))"
   ]
  },
  {
   "cell_type": "code",
   "execution_count": 22,
   "metadata": {},
   "outputs": [
    {
     "data": {
      "text/plain": [
       "Text(0.5, 0.98, 'Max Trials: 100000')"
      ]
     },
     "execution_count": 22,
     "metadata": {},
     "output_type": "execute_result"
    },
    {
     "data": {
      "image/png": "[encoded data removed]",
      "text/plain": [
       "<Figure size 432x288 with 1 Axes>"
      ]
     },
     "metadata": {},
     "output_type": "display_data"
    },
    {
     "data": {
      "application/javascript": [
       "\n",
       "            setTimeout(function() {\n",
       "                var nbb_cell_id = 22;\n",
       "                var nbb_unformatted_code = \"plt.plot(num_trails_lst, observed_prob_lst)\\nplt.axhline(\\n    0.5, color=\\\"tab:red\\\", linestyle=\\\"dashed\\\", linewidth=2,\\n)\\nplt.xlabel(\\\"Number of Trials\\\")\\nplt.ylabel(\\\"Observed Probablity\\\")\\nplt.suptitle(\\\"Max Trials: \\\" + str(max_trails))\";\n",
       "                var nbb_formatted_code = \"plt.plot(num_trails_lst, observed_prob_lst)\\nplt.axhline(\\n    0.5, color=\\\"tab:red\\\", linestyle=\\\"dashed\\\", linewidth=2,\\n)\\nplt.xlabel(\\\"Number of Trials\\\")\\nplt.ylabel(\\\"Observed Probablity\\\")\\nplt.suptitle(\\\"Max Trials: \\\" + str(max_trails))\";\n",
       "                var nbb_cells = Jupyter.notebook.get_cells();\n",
       "                for (var i = 0; i < nbb_cells.length; ++i) {\n",
       "                    if (nbb_cells[i].input_prompt_number == nbb_cell_id) {\n",
       "                        if (nbb_cells[i].get_text() == nbb_unformatted_code) {\n",
       "                             nbb_cells[i].set_text(nbb_formatted_code);\n",
       "                        }\n",
       "                        break;\n",
       "                    }\n",
       "                }\n",
       "            }, 500);\n",
       "            "
      ],
      "text/plain": [
       "<IPython.core.display.Javascript object>"
      ]
     },
     "metadata": {},
     "output_type": "display_data"
    }
   ],
   "source": [
    "plt.plot(num_trails_lst, observed_prob_lst)\n",
    "plt.axhline(\n",
    "    0.5, color=\"tab:red\", linestyle=\"dashed\", linewidth=2,\n",
    ")\n",
    "plt.xlabel(\"Number of Trials\")\n",
    "plt.ylabel(\"Observed Probablity\")\n",
    "plt.suptitle(\"Max Trials: \" + str(max_trails))"
   ]
  },
  {
   "cell_type": "code",
   "execution_count": null,
   "metadata": {},
   "outputs": [],
   "source": []
  }
 ],
 "metadata": {
  "kernelspec": {
   "display_name": "Python 3 (ipykernel)",
   "language": "python",
   "name": "python3"
  },
  "language_info": {
   "codemirror_mode": {
    "name": "ipython",
    "version": 3
   },
   "file_extension": ".py",
   "mimetype": "text/x-python",
   "name": "python",
   "nbconvert_exporter": "python",
   "pygments_lexer": "ipython3",
   "version": "3.8.13"
  },
  "toc": {
   "base_numbering": 0,
   "nav_menu": {},
   "number_sections": false,
   "sideBar": true,
   "skip_h1_title": false,
   "title_cell": "Table of Contents",
   "title_sidebar": "Contents",
   "toc_cell": false,
   "toc_position": {},
   "toc_section_display": true,
   "toc_window_display": false
  }
 },
 "nbformat": 4,
 "nbformat_minor": 2
}
