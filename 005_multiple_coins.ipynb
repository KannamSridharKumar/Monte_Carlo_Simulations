{
 "cells": [
  {
   "cell_type": "code",
   "execution_count": 1,
   "metadata": {},
   "outputs": [
    {
     "data": {
      "application/javascript": [
       "\n",
       "            setTimeout(function() {\n",
       "                var nbb_cell_id = 1;\n",
       "                var nbb_unformatted_code = \"%load_ext nb_black\";\n",
       "                var nbb_formatted_code = \"%load_ext nb_black\";\n",
       "                var nbb_cells = Jupyter.notebook.get_cells();\n",
       "                for (var i = 0; i < nbb_cells.length; ++i) {\n",
       "                    if (nbb_cells[i].input_prompt_number == nbb_cell_id) {\n",
       "                        if (nbb_cells[i].get_text() == nbb_unformatted_code) {\n",
       "                             nbb_cells[i].set_text(nbb_formatted_code);\n",
       "                        }\n",
       "                        break;\n",
       "                    }\n",
       "                }\n",
       "            }, 500);\n",
       "            "
      ],
      "text/plain": [
       "<IPython.core.display.Javascript object>"
      ]
     },
     "metadata": {},
     "output_type": "display_data"
    }
   ],
   "source": [
    "%load_ext nb_black"
   ]
  },
  {
   "cell_type": "markdown",
   "metadata": {},
   "source": [
    "<b> <font size=\"6\" color=#006A4E>Monte Carlo Simulations</font> </b>\n",
    "\n",
    "<b> <font size=\"5\" color=#006A4E>Toss Multiple coins</font> </b>"
   ]
  },
  {
   "cell_type": "markdown",
   "metadata": {},
   "source": [
    "<b> <font size=\"3\" color=#6495ED > When we toss 10 coins, what is probability of getting atleast 3 Heads? </font> </b>\n",
    "\n",
    "- Lets represent heads with 1 and tails with 0"
   ]
  },
  {
   "cell_type": "code",
   "execution_count": 30,
   "metadata": {},
   "outputs": [
    {
     "data": {
      "application/javascript": [
       "\n",
       "            setTimeout(function() {\n",
       "                var nbb_cell_id = 30;\n",
       "                var nbb_unformatted_code = \"import random\\nimport numpy as np\\nfrom collections import Counter\\nimport matplotlib.pyplot as plt\\n\\n%matplotlib inline\";\n",
       "                var nbb_formatted_code = \"import random\\nimport numpy as np\\nfrom collections import Counter\\nimport matplotlib.pyplot as plt\\n\\n%matplotlib inline\";\n",
       "                var nbb_cells = Jupyter.notebook.get_cells();\n",
       "                for (var i = 0; i < nbb_cells.length; ++i) {\n",
       "                    if (nbb_cells[i].input_prompt_number == nbb_cell_id) {\n",
       "                        if (nbb_cells[i].get_text() == nbb_unformatted_code) {\n",
       "                             nbb_cells[i].set_text(nbb_formatted_code);\n",
       "                        }\n",
       "                        break;\n",
       "                    }\n",
       "                }\n",
       "            }, 500);\n",
       "            "
      ],
      "text/plain": [
       "<IPython.core.display.Javascript object>"
      ]
     },
     "metadata": {},
     "output_type": "display_data"
    }
   ],
   "source": [
    "import random\n",
    "import numpy as np\n",
    "from collections import Counter\n",
    "import matplotlib.pyplot as plt\n",
    "\n",
    "%matplotlib inline"
   ]
  },
  {
   "cell_type": "code",
   "execution_count": 54,
   "metadata": {},
   "outputs": [
    {
     "data": {
      "text/plain": [
       "'HTTHTHHTTT'"
      ]
     },
     "execution_count": 54,
     "metadata": {},
     "output_type": "execute_result"
    },
    {
     "data": {
      "application/javascript": [
       "\n",
       "            setTimeout(function() {\n",
       "                var nbb_cell_id = 54;\n",
       "                var nbb_unformatted_code = \"possible_choices = [\\\"H\\\", \\\"T\\\"]\\n#possible_choices = [\\\"1 \\\", \\\"2 \\\", \\\"3 \\\", \\\"4 \\\", \\\"5 \\\", \\\"6 \\\"]\\n\\nnum_coins = 10\\noutcome = random.choices(possible_choices, k=num_coins)\\noutcome = \\\"\\\".join(outcome)\\noutcome\";\n",
       "                var nbb_formatted_code = \"possible_choices = [\\\"H\\\", \\\"T\\\"]\\n# possible_choices = [\\\"1 \\\", \\\"2 \\\", \\\"3 \\\", \\\"4 \\\", \\\"5 \\\", \\\"6 \\\"]\\n\\nnum_coins = 10\\noutcome = random.choices(possible_choices, k=num_coins)\\noutcome = \\\"\\\".join(outcome)\\noutcome\";\n",
       "                var nbb_cells = Jupyter.notebook.get_cells();\n",
       "                for (var i = 0; i < nbb_cells.length; ++i) {\n",
       "                    if (nbb_cells[i].input_prompt_number == nbb_cell_id) {\n",
       "                        if (nbb_cells[i].get_text() == nbb_unformatted_code) {\n",
       "                             nbb_cells[i].set_text(nbb_formatted_code);\n",
       "                        }\n",
       "                        break;\n",
       "                    }\n",
       "                }\n",
       "            }, 500);\n",
       "            "
      ],
      "text/plain": [
       "<IPython.core.display.Javascript object>"
      ]
     },
     "metadata": {},
     "output_type": "display_data"
    }
   ],
   "source": [
    "possible_choices = [\"H\", \"T\"]\n",
    "# possible_choices = [\"1 \", \"2 \", \"3 \", \"4 \", \"5 \", \"6 \"]\n",
    "\n",
    "num_coins = 10\n",
    "outcome = random.choices(possible_choices, k=num_coins)\n",
    "outcome = \"\".join(outcome)\n",
    "outcome"
   ]
  },
  {
   "cell_type": "code",
   "execution_count": 52,
   "metadata": {},
   "outputs": [
    {
     "name": "stdout",
     "output_type": "stream",
     "text": [
      "Number of possible outcomes:  216\n",
      "1 6 6 1 \n",
      "2 4 4 4 \n",
      "3 5 6 1 \n",
      "4 4 1 4 \n",
      "5 1 4 2 \n",
      "6 2 3 5 \n",
      "7 6 6 4 \n",
      "8 4 2 6 \n",
      "9 4 4 1 \n",
      "10 6 3 2 \n",
      "11 2 3 3 \n",
      "12 6 3 6 \n",
      "13 1 4 4 \n",
      "14 5 5 2 \n",
      "15 4 5 6 \n",
      "16 5 5 5 \n",
      "17 1 3 6 \n",
      "18 6 1 4 \n",
      "19 2 1 1 \n",
      "20 1 2 5 \n",
      "21 3 3 6 \n",
      "22 4 2 1 \n",
      "23 1 5 3 \n",
      "24 5 6 4 \n",
      "25 6 2 4 \n",
      "26 5 2 2 \n",
      "27 4 2 5 \n",
      "28 2 2 3 \n",
      "29 2 5 2 \n",
      "30 4 4 5 \n",
      "31 4 6 6 \n",
      "32 1 5 2 \n",
      "33 2 6 1 \n",
      "34 1 6 5 \n",
      "35 4 6 5 \n",
      "36 1 5 4 \n",
      "37 3 5 5 \n",
      "38 5 2 4 \n",
      "39 1 1 2 \n",
      "40 5 3 4 \n",
      "41 1 5 1 \n",
      "42 1 2 1 \n",
      "43 3 3 3 \n",
      "44 6 3 1 \n",
      "45 5 2 3 \n",
      "46 5 6 2 \n",
      "47 6 3 5 \n",
      "48 2 4 4 \n",
      "49 4 1 1 \n",
      "50 5 1 6 \n",
      "51 1 1 6 \n",
      "52 1 6 2 \n",
      "53 6 6 6 \n",
      "54 2 1 3 \n",
      "55 1 6 3 \n",
      "56 5 5 6 \n",
      "57 3 3 2 \n",
      "58 2 2 1 \n",
      "59 4 2 4 \n",
      "60 3 5 3 \n",
      "61 1 1 5 \n",
      "62 4 3 1 \n",
      "63 2 5 3 \n",
      "64 2 6 2 \n",
      "65 4 5 2 \n",
      "66 4 1 5 \n",
      "67 4 1 3 \n",
      "68 5 6 5 \n",
      "69 5 3 5 \n",
      "70 6 5 6 \n",
      "71 4 5 1 \n",
      "72 3 3 1 \n",
      "73 1 4 5 \n",
      "74 2 1 4 \n",
      "75 3 3 4 \n",
      "76 1 2 2 \n",
      "77 5 4 6 \n",
      "78 2 4 6 \n",
      "79 6 5 2 \n",
      "80 1 2 4 \n",
      "81 3 5 1 \n",
      "82 3 5 6 \n",
      "83 6 2 5 \n",
      "84 1 1 4 \n",
      "85 2 5 6 \n",
      "86 5 4 4 \n",
      "87 4 6 2 \n",
      "88 2 3 2 \n",
      "89 2 6 3 \n",
      "90 2 3 6 \n",
      "91 1 6 1 \n",
      "92 4 5 3 \n",
      "93 6 5 3 \n",
      "94 6 6 3 \n",
      "95 3 4 6 \n",
      "96 4 4 2 \n",
      "97 5 1 3 \n",
      "98 2 3 1 \n",
      "99 3 1 2 \n",
      "100 3 1 5 \n",
      "101 5 3 2 \n",
      "102 2 5 5 \n",
      "103 2 4 2 \n",
      "104 6 1 2 \n",
      "105 4 4 6 \n",
      "106 5 2 6 \n",
      "107 1 3 5 \n",
      "108 1 5 6 \n",
      "109 3 6 6 \n",
      "110 4 3 3 \n",
      "111 1 4 3 \n",
      "112 3 1 6 \n",
      "113 5 2 1 \n",
      "114 3 6 5 \n",
      "115 2 2 5 \n",
      "116 1 2 6 \n",
      "117 2 2 2 \n",
      "118 5 3 6 \n",
      "119 2 2 4 \n",
      "120 2 1 5 \n",
      "121 6 1 1 \n",
      "122 1 3 3 \n",
      "123 4 5 5 \n",
      "124 6 1 6 \n",
      "125 1 4 1 \n",
      "126 5 1 2 \n",
      "127 4 5 4 \n",
      "128 3 6 1 \n",
      "129 6 3 3 \n",
      "130 5 6 3 \n",
      "131 1 3 2 \n",
      "132 2 4 3 \n",
      "133 2 2 6 \n",
      "134 6 3 4 \n",
      "135 6 1 3 \n",
      "136 5 1 1 \n",
      "137 1 1 1 \n",
      "138 4 3 2 \n",
      "139 5 4 2 \n",
      "140 6 5 4 \n",
      "141 5 5 1 \n",
      "142 6 2 6 \n",
      "143 1 5 5 \n",
      "144 3 2 4 \n",
      "145 1 1 3 \n",
      "146 2 5 1 \n",
      "147 6 5 1 \n",
      "148 6 5 5 \n",
      "149 2 6 5 \n",
      "150 5 3 1 \n",
      "151 1 3 4 \n",
      "152 4 6 4 \n",
      "153 2 3 4 \n",
      "154 2 6 6 \n",
      "155 3 1 1 \n",
      "156 2 6 4 \n",
      "157 1 6 4 \n",
      "158 3 4 4 \n",
      "159 6 4 3 \n",
      "160 6 1 5 \n",
      "161 5 4 1 \n",
      "162 6 4 5 \n",
      "163 6 2 3 \n",
      "164 5 4 3 \n",
      "165 3 4 3 \n",
      "166 6 4 6 \n",
      "167 5 4 5 \n",
      "168 3 2 1 \n",
      "169 3 4 5 \n",
      "170 3 6 4 \n",
      "171 4 6 3 \n",
      "172 3 6 3 \n",
      "173 4 2 2 \n",
      "174 5 5 4 \n",
      "175 3 2 6 \n",
      "176 5 6 6 \n",
      "177 1 4 6 \n",
      "178 6 6 2 \n",
      "179 4 4 3 \n",
      "180 4 3 5 \n",
      "181 5 1 4 \n",
      "182 1 2 3 \n",
      "183 1 3 1 \n",
      "184 4 2 3 \n",
      "185 4 1 6 \n",
      "186 2 5 4 \n",
      "187 5 1 5 \n",
      "188 3 1 3 \n",
      "189 4 1 2 \n",
      "190 6 4 1 \n",
      "191 5 3 3 \n",
      "192 6 4 2 \n",
      "193 2 4 5 \n",
      "194 3 2 3 \n",
      "195 2 1 6 \n",
      "196 4 3 4 \n",
      "197 5 2 5 \n",
      "198 6 2 1 \n",
      "199 3 4 2 \n",
      "200 6 4 4 \n",
      "201 2 4 1 \n",
      "202 4 6 1 \n",
      "203 3 5 2 \n",
      "204 1 6 6 \n",
      "205 3 2 5 \n",
      "206 2 1 2 \n",
      "207 6 6 5 \n",
      "208 3 2 2 \n",
      "209 3 6 2 \n",
      "210 3 5 4 \n",
      "211 4 3 6 \n",
      "212 3 1 4 \n",
      "213 6 2 2 \n",
      "214 5 5 3 \n",
      "215 3 3 5 \n",
      "216 3 4 1 \n"
     ]
    },
    {
     "data": {
      "application/javascript": [
       "\n",
       "            setTimeout(function() {\n",
       "                var nbb_cell_id = 52;\n",
       "                var nbb_unformatted_code = \"n_trails = 100000\\n\\npossible_outcomes = []\\n\\nfor i in range(n_trails):\\n    outcome = random.choices(possible_choices, k=num_coins)\\n    outcome = \\\"\\\".join(outcome)\\n    if outcome not in possible_outcomes:\\n        possible_outcomes.append(outcome)\\n\\n\\nprint(\\\"Number of possible outcomes: \\\", len(possible_outcomes))\\nfor i, possible_outcome in enumerate(possible_outcomes):\\n    print(i + 1, possible_outcome)\";\n",
       "                var nbb_formatted_code = \"n_trails = 100000\\n\\npossible_outcomes = []\\n\\nfor i in range(n_trails):\\n    outcome = random.choices(possible_choices, k=num_coins)\\n    outcome = \\\"\\\".join(outcome)\\n    if outcome not in possible_outcomes:\\n        possible_outcomes.append(outcome)\\n\\n\\nprint(\\\"Number of possible outcomes: \\\", len(possible_outcomes))\\nfor i, possible_outcome in enumerate(possible_outcomes):\\n    print(i + 1, possible_outcome)\";\n",
       "                var nbb_cells = Jupyter.notebook.get_cells();\n",
       "                for (var i = 0; i < nbb_cells.length; ++i) {\n",
       "                    if (nbb_cells[i].input_prompt_number == nbb_cell_id) {\n",
       "                        if (nbb_cells[i].get_text() == nbb_unformatted_code) {\n",
       "                             nbb_cells[i].set_text(nbb_formatted_code);\n",
       "                        }\n",
       "                        break;\n",
       "                    }\n",
       "                }\n",
       "            }, 500);\n",
       "            "
      ],
      "text/plain": [
       "<IPython.core.display.Javascript object>"
      ]
     },
     "metadata": {},
     "output_type": "display_data"
    }
   ],
   "source": [
    "n_trails = 100000\n",
    "\n",
    "possible_outcomes = []\n",
    "\n",
    "for i in range(n_trails):\n",
    "    outcome = random.choices(possible_choices, k=num_coins)\n",
    "    outcome = \"\".join(outcome)\n",
    "    if outcome not in possible_outcomes:\n",
    "        possible_outcomes.append(outcome)\n",
    "\n",
    "\n",
    "print(\"Number of possible outcomes: \", len(possible_outcomes))\n",
    "for i, possible_outcome in enumerate(possible_outcomes):\n",
    "    print(i + 1, possible_outcome)"
   ]
  },
  {
   "cell_type": "code",
   "execution_count": null,
   "metadata": {},
   "outputs": [],
   "source": []
  },
  {
   "cell_type": "code",
   "execution_count": 61,
   "metadata": {},
   "outputs": [
    {
     "data": {
      "application/javascript": [
       "\n",
       "            setTimeout(function() {\n",
       "                var nbb_cell_id = 61;\n",
       "                var nbb_unformatted_code = \"n_trails = 100000\\n\\nfav_outcomes = 0\\n\\nfor i in range(n_trails):\\n    outcome = random.choices(possible_choices, k=num_coins)\\n    # outcome = \\\"\\\".join(outcome)\\n    cnt = outcome.count(\\\"H\\\")\\n    if cnt == 10:\\n        fav_outcomes += 1\";\n",
       "                var nbb_formatted_code = \"n_trails = 100000\\n\\nfav_outcomes = 0\\n\\nfor i in range(n_trails):\\n    outcome = random.choices(possible_choices, k=num_coins)\\n    # outcome = \\\"\\\".join(outcome)\\n    cnt = outcome.count(\\\"H\\\")\\n    if cnt == 10:\\n        fav_outcomes += 1\";\n",
       "                var nbb_cells = Jupyter.notebook.get_cells();\n",
       "                for (var i = 0; i < nbb_cells.length; ++i) {\n",
       "                    if (nbb_cells[i].input_prompt_number == nbb_cell_id) {\n",
       "                        if (nbb_cells[i].get_text() == nbb_unformatted_code) {\n",
       "                             nbb_cells[i].set_text(nbb_formatted_code);\n",
       "                        }\n",
       "                        break;\n",
       "                    }\n",
       "                }\n",
       "            }, 500);\n",
       "            "
      ],
      "text/plain": [
       "<IPython.core.display.Javascript object>"
      ]
     },
     "metadata": {},
     "output_type": "display_data"
    }
   ],
   "source": []
  },
  {
   "cell_type": "markdown",
   "metadata": {},
   "source": [
    "- 3x3x3 Rubik's cube has 43 252 003 274 489 856 000 combinations, or 43 quintillion. "
   ]
  },
  {
   "cell_type": "code",
   "execution_count": null,
   "metadata": {},
   "outputs": [],
   "source": []
  }
 ],
 "metadata": {
  "kernelspec": {
   "display_name": "Python 3 (ipykernel)",
   "language": "python",
   "name": "python3"
  },
  "language_info": {
   "codemirror_mode": {
    "name": "ipython",
    "version": 3
   },
   "file_extension": ".py",
   "mimetype": "text/x-python",
   "name": "python",
   "nbconvert_exporter": "python",
   "pygments_lexer": "ipython3",
   "version": "3.8.13"
  },
  "toc": {
   "base_numbering": 1,
   "nav_menu": {},
   "number_sections": true,
   "sideBar": true,
   "skip_h1_title": false,
   "title_cell": "Table of Contents",
   "title_sidebar": "Contents",
   "toc_cell": false,
   "toc_position": {},
   "toc_section_display": true,
   "toc_window_display": false
  }
 },
 "nbformat": 4,
 "nbformat_minor": 2
}
