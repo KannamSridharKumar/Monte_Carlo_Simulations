{
 "cells": [
  {
   "cell_type": "markdown",
   "metadata": {},
   "source": [
    "<b> <font size=\"6\" color=\"white\">Monte Carlo Simulations</font> </b>\n",
    "\n",
    "<b> <font size=\"5\" color=\"white\"> Numerical Integration</font> </b>\n",
    "\n"
   ]
  },
  {
   "cell_type": "markdown",
   "metadata": {},
   "source": [
    "$\\int_{a}^{b} f(x) \\, dx = \\frac{(b-a)}{N} \\sum_{i=1}^{N} \\, f(x_{i})$"
   ]
  },
  {
   "cell_type": "code",
   "execution_count": 1,
   "metadata": {},
   "outputs": [
    {
     "data": {
      "application/javascript": [
       "\n",
       "            setTimeout(function() {\n",
       "                var nbb_cell_id = 1;\n",
       "                var nbb_unformatted_code = \"%load_ext nb_black\";\n",
       "                var nbb_formatted_code = \"%load_ext nb_black\";\n",
       "                var nbb_cells = Jupyter.notebook.get_cells();\n",
       "                for (var i = 0; i < nbb_cells.length; ++i) {\n",
       "                    if (nbb_cells[i].input_prompt_number == nbb_cell_id) {\n",
       "                        if (nbb_cells[i].get_text() == nbb_unformatted_code) {\n",
       "                             nbb_cells[i].set_text(nbb_formatted_code);\n",
       "                        }\n",
       "                        break;\n",
       "                    }\n",
       "                }\n",
       "            }, 500);\n",
       "            "
      ],
      "text/plain": [
       "<IPython.core.display.Javascript object>"
      ]
     },
     "metadata": {},
     "output_type": "display_data"
    }
   ],
   "source": [
    "%load_ext nb_black"
   ]
  },
  {
   "cell_type": "code",
   "execution_count": 2,
   "metadata": {},
   "outputs": [
    {
     "data": {
      "application/javascript": [
       "\n",
       "            setTimeout(function() {\n",
       "                var nbb_cell_id = 2;\n",
       "                var nbb_unformatted_code = \"import random\\nimport numpy as np\\nimport matplotlib.pyplot as plt\\n\\nplt.style.use(\\\"fivethirtyeight\\\")\";\n",
       "                var nbb_formatted_code = \"import random\\nimport numpy as np\\nimport matplotlib.pyplot as plt\\n\\nplt.style.use(\\\"fivethirtyeight\\\")\";\n",
       "                var nbb_cells = Jupyter.notebook.get_cells();\n",
       "                for (var i = 0; i < nbb_cells.length; ++i) {\n",
       "                    if (nbb_cells[i].input_prompt_number == nbb_cell_id) {\n",
       "                        if (nbb_cells[i].get_text() == nbb_unformatted_code) {\n",
       "                             nbb_cells[i].set_text(nbb_formatted_code);\n",
       "                        }\n",
       "                        break;\n",
       "                    }\n",
       "                }\n",
       "            }, 500);\n",
       "            "
      ],
      "text/plain": [
       "<IPython.core.display.Javascript object>"
      ]
     },
     "metadata": {},
     "output_type": "display_data"
    }
   ],
   "source": [
    "import random\n",
    "import numpy as np\n",
    "import matplotlib.pyplot as plt\n",
    "\n",
    "plt.style.use(\"fivethirtyeight\")"
   ]
  },
  {
   "cell_type": "code",
   "execution_count": 3,
   "metadata": {},
   "outputs": [
    {
     "data": {
      "application/javascript": [
       "\n",
       "            setTimeout(function() {\n",
       "                var nbb_cell_id = 3;\n",
       "                var nbb_unformatted_code = \"def fun(x):\\n    return x**2 - x\";\n",
       "                var nbb_formatted_code = \"def fun(x):\\n    return x**2 - x\";\n",
       "                var nbb_cells = Jupyter.notebook.get_cells();\n",
       "                for (var i = 0; i < nbb_cells.length; ++i) {\n",
       "                    if (nbb_cells[i].input_prompt_number == nbb_cell_id) {\n",
       "                        if (nbb_cells[i].get_text() == nbb_unformatted_code) {\n",
       "                             nbb_cells[i].set_text(nbb_formatted_code);\n",
       "                        }\n",
       "                        break;\n",
       "                    }\n",
       "                }\n",
       "            }, 500);\n",
       "            "
      ],
      "text/plain": [
       "<IPython.core.display.Javascript object>"
      ]
     },
     "metadata": {},
     "output_type": "display_data"
    }
   ],
   "source": [
    "def fun(x):\n",
    "    return x**2 - x"
   ]
  },
  {
   "cell_type": "code",
   "execution_count": 4,
   "metadata": {},
   "outputs": [
    {
     "data": {
      "application/javascript": [
       "\n",
       "            setTimeout(function() {\n",
       "                var nbb_cell_id = 4;\n",
       "                var nbb_unformatted_code = \"a = 2\\nb = 4\";\n",
       "                var nbb_formatted_code = \"a = 2\\nb = 4\";\n",
       "                var nbb_cells = Jupyter.notebook.get_cells();\n",
       "                for (var i = 0; i < nbb_cells.length; ++i) {\n",
       "                    if (nbb_cells[i].input_prompt_number == nbb_cell_id) {\n",
       "                        if (nbb_cells[i].get_text() == nbb_unformatted_code) {\n",
       "                             nbb_cells[i].set_text(nbb_formatted_code);\n",
       "                        }\n",
       "                        break;\n",
       "                    }\n",
       "                }\n",
       "            }, 500);\n",
       "            "
      ],
      "text/plain": [
       "<IPython.core.display.Javascript object>"
      ]
     },
     "metadata": {},
     "output_type": "display_data"
    }
   ],
   "source": [
    "a = 2\n",
    "b = 4"
   ]
  },
  {
   "cell_type": "code",
   "execution_count": 5,
   "metadata": {},
   "outputs": [
    {
     "data": {
      "text/plain": [
       "<matplotlib.lines.Line2D at 0x7fcb24040f40>"
      ]
     },
     "execution_count": 5,
     "metadata": {},
     "output_type": "execute_result"
    },
    {
     "data": {
      "image/png": "[encoded data removed]",
      "text/plain": [
       "<Figure size 640x480 with 1 Axes>"
      ]
     },
     "metadata": {},
     "output_type": "display_data"
    },
    {
     "data": {
      "application/javascript": [
       "\n",
       "            setTimeout(function() {\n",
       "                var nbb_cell_id = 5;\n",
       "                var nbb_unformatted_code = \"xl = np.arange(1, 5, 0.01)\\nyl = [x**2 - x for x in xl]\\nplt.plot(xl, yl)\\nplt.axvline(a, color=\\\"tab:red\\\", linestyle=\\\"dashed\\\")\\nplt.axvline(b, color=\\\"tab:red\\\", linestyle=\\\"dashed\\\")\";\n",
       "                var nbb_formatted_code = \"xl = np.arange(1, 5, 0.01)\\nyl = [x**2 - x for x in xl]\\nplt.plot(xl, yl)\\nplt.axvline(a, color=\\\"tab:red\\\", linestyle=\\\"dashed\\\")\\nplt.axvline(b, color=\\\"tab:red\\\", linestyle=\\\"dashed\\\")\";\n",
       "                var nbb_cells = Jupyter.notebook.get_cells();\n",
       "                for (var i = 0; i < nbb_cells.length; ++i) {\n",
       "                    if (nbb_cells[i].input_prompt_number == nbb_cell_id) {\n",
       "                        if (nbb_cells[i].get_text() == nbb_unformatted_code) {\n",
       "                             nbb_cells[i].set_text(nbb_formatted_code);\n",
       "                        }\n",
       "                        break;\n",
       "                    }\n",
       "                }\n",
       "            }, 500);\n",
       "            "
      ],
      "text/plain": [
       "<IPython.core.display.Javascript object>"
      ]
     },
     "metadata": {},
     "output_type": "display_data"
    }
   ],
   "source": [
    "xl = np.arange(1, 5, 0.01)\n",
    "yl = [x**2 - x for x in xl]\n",
    "plt.plot(xl, yl)\n",
    "plt.axvline(a, color=\"tab:red\", linestyle=\"dashed\")\n",
    "plt.axvline(b, color=\"tab:red\", linestyle=\"dashed\")"
   ]
  },
  {
   "cell_type": "code",
   "execution_count": 6,
   "metadata": {},
   "outputs": [
    {
     "name": "stdout",
     "output_type": "stream",
     "text": [
      "Exact integral is:  12.666666666666666\n"
     ]
    },
    {
     "data": {
      "application/javascript": [
       "\n",
       "            setTimeout(function() {\n",
       "                var nbb_cell_id = 6;\n",
       "                var nbb_unformatted_code = \"def g(x):\\n    return x**3 / 3 - x**2 / 2\\n\\n\\nexact_integral = g(b) - g(a)\\nprint(\\\"Exact integral is: \\\", exact_integral)\";\n",
       "                var nbb_formatted_code = \"def g(x):\\n    return x**3 / 3 - x**2 / 2\\n\\n\\nexact_integral = g(b) - g(a)\\nprint(\\\"Exact integral is: \\\", exact_integral)\";\n",
       "                var nbb_cells = Jupyter.notebook.get_cells();\n",
       "                for (var i = 0; i < nbb_cells.length; ++i) {\n",
       "                    if (nbb_cells[i].input_prompt_number == nbb_cell_id) {\n",
       "                        if (nbb_cells[i].get_text() == nbb_unformatted_code) {\n",
       "                             nbb_cells[i].set_text(nbb_formatted_code);\n",
       "                        }\n",
       "                        break;\n",
       "                    }\n",
       "                }\n",
       "            }, 500);\n",
       "            "
      ],
      "text/plain": [
       "<IPython.core.display.Javascript object>"
      ]
     },
     "metadata": {},
     "output_type": "display_data"
    }
   ],
   "source": [
    "def g(x):\n",
    "    return x**3 / 3 - x**2 / 2\n",
    "\n",
    "\n",
    "exact_integral = g(b) - g(a)\n",
    "print(\"Exact integral is: \", exact_integral)"
   ]
  },
  {
   "cell_type": "code",
   "execution_count": 7,
   "metadata": {},
   "outputs": [
    {
     "data": {
      "application/javascript": [
       "\n",
       "            setTimeout(function() {\n",
       "                var nbb_cell_id = 7;\n",
       "                var nbb_unformatted_code = \"# def fun(x):\\n#     return np.sin(x)\\n\\n\\n# a = 0\\n# b = np.pi\\n\\n# exact_integral = 2.0\\n# print(\\\"Exact integral is: \\\", exact_integral)\";\n",
       "                var nbb_formatted_code = \"# def fun(x):\\n#     return np.sin(x)\\n\\n\\n# a = 0\\n# b = np.pi\\n\\n# exact_integral = 2.0\\n# print(\\\"Exact integral is: \\\", exact_integral)\";\n",
       "                var nbb_cells = Jupyter.notebook.get_cells();\n",
       "                for (var i = 0; i < nbb_cells.length; ++i) {\n",
       "                    if (nbb_cells[i].input_prompt_number == nbb_cell_id) {\n",
       "                        if (nbb_cells[i].get_text() == nbb_unformatted_code) {\n",
       "                             nbb_cells[i].set_text(nbb_formatted_code);\n",
       "                        }\n",
       "                        break;\n",
       "                    }\n",
       "                }\n",
       "            }, 500);\n",
       "            "
      ],
      "text/plain": [
       "<IPython.core.display.Javascript object>"
      ]
     },
     "metadata": {},
     "output_type": "display_data"
    }
   ],
   "source": [
    "# def fun(x):\n",
    "#     return np.sin(x)\n",
    "\n",
    "\n",
    "# a = 0\n",
    "# b = np.pi\n",
    "\n",
    "# exact_integral = 2.0\n",
    "# print(\"Exact integral is: \", exact_integral)"
   ]
  },
  {
   "cell_type": "code",
   "execution_count": 11,
   "metadata": {},
   "outputs": [
    {
     "name": "stdout",
     "output_type": "stream",
     "text": [
      "Monte Carlo integral is: 12.689098992539353.\n"
     ]
    },
    {
     "data": {
      "application/javascript": [
       "\n",
       "            setTimeout(function() {\n",
       "                var nbb_cell_id = 11;\n",
       "                var nbb_unformatted_code = \"n_samples = 10000\\nintegral = 0.0\\nfor i in range(n_samples):\\n    rnd = random.uniform(a, b)\\n    integral += fun(rnd)\\n\\nintegral = (b - a) / float(n_samples) * integral\\n\\nprint(\\\"Monte Carlo integral is: {}.\\\".format(integral))\";\n",
       "                var nbb_formatted_code = \"n_samples = 10000\\nintegral = 0.0\\nfor i in range(n_samples):\\n    rnd = random.uniform(a, b)\\n    integral += fun(rnd)\\n\\nintegral = (b - a) / float(n_samples) * integral\\n\\nprint(\\\"Monte Carlo integral is: {}.\\\".format(integral))\";\n",
       "                var nbb_cells = Jupyter.notebook.get_cells();\n",
       "                for (var i = 0; i < nbb_cells.length; ++i) {\n",
       "                    if (nbb_cells[i].input_prompt_number == nbb_cell_id) {\n",
       "                        if (nbb_cells[i].get_text() == nbb_unformatted_code) {\n",
       "                             nbb_cells[i].set_text(nbb_formatted_code);\n",
       "                        }\n",
       "                        break;\n",
       "                    }\n",
       "                }\n",
       "            }, 500);\n",
       "            "
      ],
      "text/plain": [
       "<IPython.core.display.Javascript object>"
      ]
     },
     "metadata": {},
     "output_type": "display_data"
    }
   ],
   "source": [
    "n_samples = 10000\n",
    "integral = 0.0\n",
    "for i in range(n_samples):\n",
    "    rnd = random.uniform(a, b)\n",
    "    integral += fun(rnd)\n",
    "\n",
    "integral = (b - a) / float(n_samples) * integral\n",
    "\n",
    "print(\"Monte Carlo integral is: {}.\".format(integral))"
   ]
  },
  {
   "cell_type": "code",
   "execution_count": null,
   "metadata": {},
   "outputs": [],
   "source": []
  },
  {
   "cell_type": "code",
   "execution_count": 9,
   "metadata": {},
   "outputs": [
    {
     "name": "stdout",
     "output_type": "stream",
     "text": [
      "Avg is: 12.667513888676366.\n",
      "STD is: 0.18126029584104789.\n"
     ]
    },
    {
     "data": {
      "application/javascript": [
       "\n",
       "            setTimeout(function() {\n",
       "                var nbb_cell_id = 9;\n",
       "                var nbb_unformatted_code = \"n_experiments = 10000\\nn_samples = 1000\\n\\nintegral_lst = []\\n\\nfor i in range(n_experiments):\\n    integral = 0\\n    for i in range(n_samples):\\n        rnd = random.uniform(a, b)\\n        integral += fun(rnd)\\n\\n    integral = (b - a) / float(n_samples) * integral\\n    integral_lst.append(integral)\\n\\n\\nprint(\\\"Avg is: {}.\\\".format(np.mean(integral_lst)))\\nprint(\\\"STD is: {}.\\\".format(np.std(integral_lst)))\";\n",
       "                var nbb_formatted_code = \"n_experiments = 10000\\nn_samples = 1000\\n\\nintegral_lst = []\\n\\nfor i in range(n_experiments):\\n    integral = 0\\n    for i in range(n_samples):\\n        rnd = random.uniform(a, b)\\n        integral += fun(rnd)\\n\\n    integral = (b - a) / float(n_samples) * integral\\n    integral_lst.append(integral)\\n\\n\\nprint(\\\"Avg is: {}.\\\".format(np.mean(integral_lst)))\\nprint(\\\"STD is: {}.\\\".format(np.std(integral_lst)))\";\n",
       "                var nbb_cells = Jupyter.notebook.get_cells();\n",
       "                for (var i = 0; i < nbb_cells.length; ++i) {\n",
       "                    if (nbb_cells[i].input_prompt_number == nbb_cell_id) {\n",
       "                        if (nbb_cells[i].get_text() == nbb_unformatted_code) {\n",
       "                             nbb_cells[i].set_text(nbb_formatted_code);\n",
       "                        }\n",
       "                        break;\n",
       "                    }\n",
       "                }\n",
       "            }, 500);\n",
       "            "
      ],
      "text/plain": [
       "<IPython.core.display.Javascript object>"
      ]
     },
     "metadata": {},
     "output_type": "display_data"
    }
   ],
   "source": [
    "n_experiments = 10000\n",
    "n_samples = 1000\n",
    "\n",
    "integral_lst = []\n",
    "\n",
    "for i in range(n_experiments):\n",
    "    integral = 0\n",
    "    for i in range(n_samples):\n",
    "        rnd = random.uniform(a, b)\n",
    "        integral += fun(rnd)\n",
    "\n",
    "    integral = (b - a) / float(n_samples) * integral\n",
    "    integral_lst.append(integral)\n",
    "\n",
    "\n",
    "print(\"Avg is: {}.\".format(np.mean(integral_lst)))\n",
    "print(\"STD is: {}.\".format(np.std(integral_lst)))"
   ]
  },
  {
   "cell_type": "code",
   "execution_count": 10,
   "metadata": {},
   "outputs": [
    {
     "data": {
      "text/plain": [
       "<matplotlib.lines.Line2D at 0x7fcb00277550>"
      ]
     },
     "execution_count": 10,
     "metadata": {},
     "output_type": "execute_result"
    },
    {
     "data": {
      "image/png": "[encoded data removed]",
      "text/plain": [
       "<Figure size 640x480 with 1 Axes>"
      ]
     },
     "metadata": {},
     "output_type": "display_data"
    },
    {
     "data": {
      "application/javascript": [
       "\n",
       "            setTimeout(function() {\n",
       "                var nbb_cell_id = 10;\n",
       "                var nbb_unformatted_code = \"_ = plt.hist(integral_lst, bins=20, edgecolor=\\\"black\\\")\\nplt.axvline(\\n    np.mean(integral_lst),\\n    color=\\\"tab:red\\\",\\n    linestyle=\\\"dashed\\\",\\n    linewidth=2,\\n)\\nplt.axvline(\\n    np.mean(integral_lst) + np.std(integral_lst),\\n    color=\\\"tab:red\\\",\\n    linestyle=\\\"dashed\\\",\\n    linewidth=2,\\n)\\nplt.axvline(\\n    np.mean(integral_lst) - np.std(integral_lst),\\n    color=\\\"tab:red\\\",\\n    linestyle=\\\"dashed\\\",\\n    linewidth=2,\\n)\";\n",
       "                var nbb_formatted_code = \"_ = plt.hist(integral_lst, bins=20, edgecolor=\\\"black\\\")\\nplt.axvline(\\n    np.mean(integral_lst),\\n    color=\\\"tab:red\\\",\\n    linestyle=\\\"dashed\\\",\\n    linewidth=2,\\n)\\nplt.axvline(\\n    np.mean(integral_lst) + np.std(integral_lst),\\n    color=\\\"tab:red\\\",\\n    linestyle=\\\"dashed\\\",\\n    linewidth=2,\\n)\\nplt.axvline(\\n    np.mean(integral_lst) - np.std(integral_lst),\\n    color=\\\"tab:red\\\",\\n    linestyle=\\\"dashed\\\",\\n    linewidth=2,\\n)\";\n",
       "                var nbb_cells = Jupyter.notebook.get_cells();\n",
       "                for (var i = 0; i < nbb_cells.length; ++i) {\n",
       "                    if (nbb_cells[i].input_prompt_number == nbb_cell_id) {\n",
       "                        if (nbb_cells[i].get_text() == nbb_unformatted_code) {\n",
       "                             nbb_cells[i].set_text(nbb_formatted_code);\n",
       "                        }\n",
       "                        break;\n",
       "                    }\n",
       "                }\n",
       "            }, 500);\n",
       "            "
      ],
      "text/plain": [
       "<IPython.core.display.Javascript object>"
      ]
     },
     "metadata": {},
     "output_type": "display_data"
    }
   ],
   "source": [
    "_ = plt.hist(integral_lst, bins=20, edgecolor=\"black\")\n",
    "plt.axvline(\n",
    "    np.mean(integral_lst),\n",
    "    color=\"tab:red\",\n",
    "    linestyle=\"dashed\",\n",
    "    linewidth=2,\n",
    ")\n",
    "plt.axvline(\n",
    "    np.mean(integral_lst) + np.std(integral_lst),\n",
    "    color=\"tab:red\",\n",
    "    linestyle=\"dashed\",\n",
    "    linewidth=2,\n",
    ")\n",
    "plt.axvline(\n",
    "    np.mean(integral_lst) - np.std(integral_lst),\n",
    "    color=\"tab:red\",\n",
    "    linestyle=\"dashed\",\n",
    "    linewidth=2,\n",
    ")"
   ]
  },
  {
   "cell_type": "code",
   "execution_count": null,
   "metadata": {},
   "outputs": [],
   "source": []
  }
 ],
 "metadata": {
  "kernelspec": {
   "display_name": "Python 3 (ipykernel)",
   "language": "python",
   "name": "python3"
  },
  "language_info": {
   "codemirror_mode": {
    "name": "ipython",
    "version": 3
   },
   "file_extension": ".py",
   "mimetype": "text/x-python",
   "name": "python",
   "nbconvert_exporter": "python",
   "pygments_lexer": "ipython3",
   "version": "3.8.16"
  },
  "toc": {
   "base_numbering": 1,
   "nav_menu": {},
   "number_sections": true,
   "sideBar": true,
   "skip_h1_title": false,
   "title_cell": "Table of Contents",
   "title_sidebar": "Contents",
   "toc_cell": false,
   "toc_position": {},
   "toc_section_display": true,
   "toc_window_display": false
  }
 },
 "nbformat": 4,
 "nbformat_minor": 2
}
