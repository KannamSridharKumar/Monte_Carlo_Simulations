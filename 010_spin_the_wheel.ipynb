{
 "cells": [
  {
   "cell_type": "markdown",
   "metadata": {},
   "source": [
    "<b> <font size=\"6\" color=\"white\">Monte Carlo Simulations</font> </b>\n",
    "\n",
    "<b> <font size=\"5\" color=\"white\">Spinning Wheel Game</font> </b>\n",
    "\n"
   ]
  },
  {
   "cell_type": "code",
   "execution_count": 1,
   "metadata": {},
   "outputs": [
    {
     "data": {
      "application/javascript": [
       "\n",
       "            setTimeout(function() {\n",
       "                var nbb_cell_id = 1;\n",
       "                var nbb_unformatted_code = \"%load_ext nb_black\";\n",
       "                var nbb_formatted_code = \"%load_ext nb_black\";\n",
       "                var nbb_cells = Jupyter.notebook.get_cells();\n",
       "                for (var i = 0; i < nbb_cells.length; ++i) {\n",
       "                    if (nbb_cells[i].input_prompt_number == nbb_cell_id) {\n",
       "                        if (nbb_cells[i].get_text() == nbb_unformatted_code) {\n",
       "                             nbb_cells[i].set_text(nbb_formatted_code);\n",
       "                        }\n",
       "                        break;\n",
       "                    }\n",
       "                }\n",
       "            }, 500);\n",
       "            "
      ],
      "text/plain": [
       "<IPython.core.display.Javascript object>"
      ]
     },
     "metadata": {},
     "output_type": "display_data"
    }
   ],
   "source": [
    "%load_ext nb_black"
   ]
  },
  {
   "cell_type": "code",
   "execution_count": 2,
   "metadata": {},
   "outputs": [
    {
     "data": {
      "application/javascript": [
       "\n",
       "            setTimeout(function() {\n",
       "                var nbb_cell_id = 2;\n",
       "                var nbb_unformatted_code = \"import random\\nimport numpy as np\\nfrom IPython.display import Image\";\n",
       "                var nbb_formatted_code = \"import random\\nimport numpy as np\\nfrom IPython.display import Image\";\n",
       "                var nbb_cells = Jupyter.notebook.get_cells();\n",
       "                for (var i = 0; i < nbb_cells.length; ++i) {\n",
       "                    if (nbb_cells[i].input_prompt_number == nbb_cell_id) {\n",
       "                        if (nbb_cells[i].get_text() == nbb_unformatted_code) {\n",
       "                             nbb_cells[i].set_text(nbb_formatted_code);\n",
       "                        }\n",
       "                        break;\n",
       "                    }\n",
       "                }\n",
       "            }, 500);\n",
       "            "
      ],
      "text/plain": [
       "<IPython.core.display.Javascript object>"
      ]
     },
     "metadata": {},
     "output_type": "display_data"
    }
   ],
   "source": [
    "import random\n",
    "import numpy as np\n",
    "from IPython.display import Image"
   ]
  },
  {
   "cell_type": "code",
   "execution_count": 3,
   "metadata": {},
   "outputs": [
    {
     "data": {
      "image/png": "[encoded data removed]",
      "text/plain": [
       "<IPython.core.display.Image object>"
      ]
     },
     "execution_count": 3,
     "metadata": {
      "image/png": {
       "width": 400
      }
     },
     "output_type": "execute_result"
    },
    {
     "data": {
      "application/javascript": [
       "\n",
       "            setTimeout(function() {\n",
       "                var nbb_cell_id = 3;\n",
       "                var nbb_unformatted_code = \"Image(\\\"images/spinning_game.png\\\", width=400)\";\n",
       "                var nbb_formatted_code = \"Image(\\\"images/spinning_game.png\\\", width=400)\";\n",
       "                var nbb_cells = Jupyter.notebook.get_cells();\n",
       "                for (var i = 0; i < nbb_cells.length; ++i) {\n",
       "                    if (nbb_cells[i].input_prompt_number == nbb_cell_id) {\n",
       "                        if (nbb_cells[i].get_text() == nbb_unformatted_code) {\n",
       "                             nbb_cells[i].set_text(nbb_formatted_code);\n",
       "                        }\n",
       "                        break;\n",
       "                    }\n",
       "                }\n",
       "            }, 500);\n",
       "            "
      ],
      "text/plain": [
       "<IPython.core.display.Javascript object>"
      ]
     },
     "metadata": {},
     "output_type": "display_data"
    }
   ],
   "source": [
    "Image(\"images/spinning_game.png\", width=400)"
   ]
  },
  {
   "cell_type": "markdown",
   "metadata": {},
   "source": [
    "- yellow: +1\n",
    "- blue: +2\n",
    "- red: -3\n",
    "- Each game consists of 10 rounds"
   ]
  },
  {
   "cell_type": "code",
   "execution_count": null,
   "metadata": {},
   "outputs": [],
   "source": []
  },
  {
   "cell_type": "code",
   "execution_count": 4,
   "metadata": {},
   "outputs": [
    {
     "data": {
      "application/javascript": [
       "\n",
       "            setTimeout(function() {\n",
       "                var nbb_cell_id = 4;\n",
       "                var nbb_unformatted_code = \"def spin():\\n    points = 0\\n    n_rounds = 10\\n\\n    for i in range(n_rounds):\\n        r = random.random()\\n        if r < 0.5:  # yellow\\n            points = points + 1\\n        elif r >= 0.5 and r < 0.75:  # blue\\n        #elif r >= 0.75\\n            points = points + 2\\n        else:  # red\\n            points = points - 3\\n\\n    return points\";\n",
       "                var nbb_formatted_code = \"def spin():\\n    points = 0\\n    n_rounds = 10\\n\\n    for i in range(n_rounds):\\n        r = random.random()\\n        if r < 0.5:  # yellow\\n            points = points + 1\\n        elif r >= 0.5 and r < 0.75:  # blue\\n            # elif r >= 0.75\\n            points = points + 2\\n        else:  # red\\n            points = points - 3\\n\\n    return points\";\n",
       "                var nbb_cells = Jupyter.notebook.get_cells();\n",
       "                for (var i = 0; i < nbb_cells.length; ++i) {\n",
       "                    if (nbb_cells[i].input_prompt_number == nbb_cell_id) {\n",
       "                        if (nbb_cells[i].get_text() == nbb_unformatted_code) {\n",
       "                             nbb_cells[i].set_text(nbb_formatted_code);\n",
       "                        }\n",
       "                        break;\n",
       "                    }\n",
       "                }\n",
       "            }, 500);\n",
       "            "
      ],
      "text/plain": [
       "<IPython.core.display.Javascript object>"
      ]
     },
     "metadata": {},
     "output_type": "display_data"
    }
   ],
   "source": [
    "def spin():\n",
    "    points = 0\n",
    "    n_rounds = 10\n",
    "\n",
    "    for i in range(n_rounds):\n",
    "        r = random.random()\n",
    "        if r < 0.5:  # yellow\n",
    "            points = points + 1\n",
    "        elif r >= 0.5 and r < 0.75:  # blue\n",
    "            # elif r >= 0.75\n",
    "            points = points + 2\n",
    "        else:  # red\n",
    "            points = points - 3\n",
    "\n",
    "    return points"
   ]
  },
  {
   "cell_type": "code",
   "execution_count": 5,
   "metadata": {},
   "outputs": [
    {
     "data": {
      "application/javascript": [
       "\n",
       "            setTimeout(function() {\n",
       "                var nbb_cell_id = 5;\n",
       "                var nbb_unformatted_code = \"n_wins = 0\\nn_games = 1000000\\n\\npoints = []\\nfor i in range(n_games):\\n    pts = spin()\\n    points.append(pts)\";\n",
       "                var nbb_formatted_code = \"n_wins = 0\\nn_games = 1000000\\n\\npoints = []\\nfor i in range(n_games):\\n    pts = spin()\\n    points.append(pts)\";\n",
       "                var nbb_cells = Jupyter.notebook.get_cells();\n",
       "                for (var i = 0; i < nbb_cells.length; ++i) {\n",
       "                    if (nbb_cells[i].input_prompt_number == nbb_cell_id) {\n",
       "                        if (nbb_cells[i].get_text() == nbb_unformatted_code) {\n",
       "                             nbb_cells[i].set_text(nbb_formatted_code);\n",
       "                        }\n",
       "                        break;\n",
       "                    }\n",
       "                }\n",
       "            }, 500);\n",
       "            "
      ],
      "text/plain": [
       "<IPython.core.display.Javascript object>"
      ]
     },
     "metadata": {},
     "output_type": "display_data"
    }
   ],
   "source": [
    "n_wins = 0\n",
    "n_games = 1000000\n",
    "\n",
    "points = []\n",
    "for i in range(n_games):\n",
    "    pts = spin()\n",
    "    points.append(pts)"
   ]
  },
  {
   "cell_type": "code",
   "execution_count": 6,
   "metadata": {},
   "outputs": [
    {
     "data": {
      "text/plain": [
       "[4, 10, -10, 5, 4, -3, 4, -8, -8, -13]"
      ]
     },
     "execution_count": 6,
     "metadata": {},
     "output_type": "execute_result"
    },
    {
     "data": {
      "application/javascript": [
       "\n",
       "            setTimeout(function() {\n",
       "                var nbb_cell_id = 6;\n",
       "                var nbb_unformatted_code = \"points[:10]\";\n",
       "                var nbb_formatted_code = \"points[:10]\";\n",
       "                var nbb_cells = Jupyter.notebook.get_cells();\n",
       "                for (var i = 0; i < nbb_cells.length; ++i) {\n",
       "                    if (nbb_cells[i].input_prompt_number == nbb_cell_id) {\n",
       "                        if (nbb_cells[i].get_text() == nbb_unformatted_code) {\n",
       "                             nbb_cells[i].set_text(nbb_formatted_code);\n",
       "                        }\n",
       "                        break;\n",
       "                    }\n",
       "                }\n",
       "            }, 500);\n",
       "            "
      ],
      "text/plain": [
       "<IPython.core.display.Javascript object>"
      ]
     },
     "metadata": {},
     "output_type": "display_data"
    }
   ],
   "source": [
    "points[:10]"
   ]
  },
  {
   "cell_type": "markdown",
   "metadata": {},
   "source": [
    "### What is the probability of making a profit?"
   ]
  },
  {
   "cell_type": "code",
   "execution_count": 7,
   "metadata": {},
   "outputs": [
    {
     "name": "stdout",
     "output_type": "stream",
     "text": [
      "Probability of making a profit is: 0.634\n"
     ]
    },
    {
     "data": {
      "application/javascript": [
       "\n",
       "            setTimeout(function() {\n",
       "                var nbb_cell_id = 7;\n",
       "                var nbb_unformatted_code = \"n_wins = sum(p > 0 for p in points)\\n\\nprob = n_wins / n_games\\nprob = round(prob, 3)\\nprint(\\\"Probability of making a profit is: {}\\\".format(prob))\";\n",
       "                var nbb_formatted_code = \"n_wins = sum(p > 0 for p in points)\\n\\nprob = n_wins / n_games\\nprob = round(prob, 3)\\nprint(\\\"Probability of making a profit is: {}\\\".format(prob))\";\n",
       "                var nbb_cells = Jupyter.notebook.get_cells();\n",
       "                for (var i = 0; i < nbb_cells.length; ++i) {\n",
       "                    if (nbb_cells[i].input_prompt_number == nbb_cell_id) {\n",
       "                        if (nbb_cells[i].get_text() == nbb_unformatted_code) {\n",
       "                             nbb_cells[i].set_text(nbb_formatted_code);\n",
       "                        }\n",
       "                        break;\n",
       "                    }\n",
       "                }\n",
       "            }, 500);\n",
       "            "
      ],
      "text/plain": [
       "<IPython.core.display.Javascript object>"
      ]
     },
     "metadata": {},
     "output_type": "display_data"
    }
   ],
   "source": [
    "n_wins = sum(p > 0 for p in points)\n",
    "\n",
    "prob = n_wins / n_games\n",
    "prob = round(prob, 3)\n",
    "print(\"Probability of making a profit is: {}\".format(prob))"
   ]
  },
  {
   "cell_type": "markdown",
   "metadata": {},
   "source": [
    "### What is the probability of making a loss?"
   ]
  },
  {
   "cell_type": "code",
   "execution_count": null,
   "metadata": {},
   "outputs": [],
   "source": []
  },
  {
   "cell_type": "code",
   "execution_count": 8,
   "metadata": {},
   "outputs": [
    {
     "name": "stdout",
     "output_type": "stream",
     "text": [
      "Probability of making a loss is: 0.289\n"
     ]
    },
    {
     "data": {
      "application/javascript": [
       "\n",
       "            setTimeout(function() {\n",
       "                var nbb_cell_id = 8;\n",
       "                var nbb_unformatted_code = \"n_wins = sum(p < 0 for p in points)\\n\\nprob = n_wins / n_games\\nprob = round(prob, 3)\\nprint(\\\"Probability of making a loss is: {}\\\".format(prob))\";\n",
       "                var nbb_formatted_code = \"n_wins = sum(p < 0 for p in points)\\n\\nprob = n_wins / n_games\\nprob = round(prob, 3)\\nprint(\\\"Probability of making a loss is: {}\\\".format(prob))\";\n",
       "                var nbb_cells = Jupyter.notebook.get_cells();\n",
       "                for (var i = 0; i < nbb_cells.length; ++i) {\n",
       "                    if (nbb_cells[i].input_prompt_number == nbb_cell_id) {\n",
       "                        if (nbb_cells[i].get_text() == nbb_unformatted_code) {\n",
       "                             nbb_cells[i].set_text(nbb_formatted_code);\n",
       "                        }\n",
       "                        break;\n",
       "                    }\n",
       "                }\n",
       "            }, 500);\n",
       "            "
      ],
      "text/plain": [
       "<IPython.core.display.Javascript object>"
      ]
     },
     "metadata": {},
     "output_type": "display_data"
    }
   ],
   "source": [
    "n_wins = sum(p < 0 for p in points)\n",
    "\n",
    "prob = n_wins / n_games\n",
    "prob = round(prob, 3)\n",
    "print(\"Probability of making a loss is: {}\".format(prob))"
   ]
  },
  {
   "cell_type": "markdown",
   "metadata": {},
   "source": [
    "### What is the probability of neither making a loss or profit?"
   ]
  },
  {
   "cell_type": "code",
   "execution_count": 9,
   "metadata": {},
   "outputs": [
    {
     "name": "stdout",
     "output_type": "stream",
     "text": [
      "Probability of neither making a profit or loss is: 0.077\n"
     ]
    },
    {
     "data": {
      "application/javascript": [
       "\n",
       "            setTimeout(function() {\n",
       "                var nbb_cell_id = 9;\n",
       "                var nbb_unformatted_code = \"n_wins = sum(p == 0 for p in points)\\n\\nprob = n_wins / n_games\\nprob = round(prob, 3)\\nprint(\\\"Probability of neither making a profit or loss is: {}\\\".format(prob))\";\n",
       "                var nbb_formatted_code = \"n_wins = sum(p == 0 for p in points)\\n\\nprob = n_wins / n_games\\nprob = round(prob, 3)\\nprint(\\\"Probability of neither making a profit or loss is: {}\\\".format(prob))\";\n",
       "                var nbb_cells = Jupyter.notebook.get_cells();\n",
       "                for (var i = 0; i < nbb_cells.length; ++i) {\n",
       "                    if (nbb_cells[i].input_prompt_number == nbb_cell_id) {\n",
       "                        if (nbb_cells[i].get_text() == nbb_unformatted_code) {\n",
       "                             nbb_cells[i].set_text(nbb_formatted_code);\n",
       "                        }\n",
       "                        break;\n",
       "                    }\n",
       "                }\n",
       "            }, 500);\n",
       "            "
      ],
      "text/plain": [
       "<IPython.core.display.Javascript object>"
      ]
     },
     "metadata": {},
     "output_type": "display_data"
    }
   ],
   "source": [
    "n_wins = sum(p == 0 for p in points)\n",
    "\n",
    "prob = n_wins / n_games\n",
    "prob = round(prob, 3)\n",
    "print(\"Probability of neither making a profit or loss is: {}\".format(prob))"
   ]
  },
  {
   "cell_type": "markdown",
   "metadata": {},
   "source": [
    "### What is the probability of making a profit greater than X?"
   ]
  },
  {
   "cell_type": "code",
   "execution_count": 13,
   "metadata": {},
   "outputs": [
    {
     "name": "stdout",
     "output_type": "stream",
     "text": [
      "Probability of profit greater than : 0 is 0.633692\n",
      "Probability of profit greater than : 1 is 0.568712\n",
      "Probability of profit greater than : 2 is 0.525959\n",
      "Probability of profit greater than : 3 is 0.471994\n",
      "Probability of profit greater than : 4 is 0.393989\n",
      "Probability of profit greater than : 5 is 0.316482\n",
      "Probability of profit greater than : 6 is 0.263785\n",
      "Probability of profit greater than : 7 is 0.222801\n",
      "Probability of profit greater than : 8 is 0.174092\n",
      "Probability of profit greater than : 9 is 0.122205\n",
      "Probability of profit greater than : 10 is 0.082845\n",
      "Probability of profit greater than : 11 is 0.058625\n",
      "Probability of profit greater than : 12 is 0.041224\n",
      "Probability of profit greater than : 13 is 0.025203\n",
      "Probability of profit greater than : 14 is 0.012106\n",
      "Probability of profit greater than : 15 is 0.004266\n",
      "Probability of profit greater than : 16 is 0.001131\n",
      "Probability of profit greater than : 17 is 0.000193\n",
      "Probability of profit greater than : 18 is 2e-05\n",
      "Probability of profit greater than : 19 is 1e-06\n"
     ]
    },
    {
     "data": {
      "application/javascript": [
       "\n",
       "            setTimeout(function() {\n",
       "                var nbb_cell_id = 13;\n",
       "                var nbb_unformatted_code = \"for i in range(0, 20, 1):\\n    n_wins = sum(p > i for p in points)\\n\\n    prob = n_wins / n_games\\n    #prob = round(prob, 3)\\n    print(\\\"Probability of profit greater than : {} is {}\\\".format(i, prob))\";\n",
       "                var nbb_formatted_code = \"for i in range(0, 20, 1):\\n    n_wins = sum(p > i for p in points)\\n\\n    prob = n_wins / n_games\\n    # prob = round(prob, 3)\\n    print(\\\"Probability of profit greater than : {} is {}\\\".format(i, prob))\";\n",
       "                var nbb_cells = Jupyter.notebook.get_cells();\n",
       "                for (var i = 0; i < nbb_cells.length; ++i) {\n",
       "                    if (nbb_cells[i].input_prompt_number == nbb_cell_id) {\n",
       "                        if (nbb_cells[i].get_text() == nbb_unformatted_code) {\n",
       "                             nbb_cells[i].set_text(nbb_formatted_code);\n",
       "                        }\n",
       "                        break;\n",
       "                    }\n",
       "                }\n",
       "            }, 500);\n",
       "            "
      ],
      "text/plain": [
       "<IPython.core.display.Javascript object>"
      ]
     },
     "metadata": {},
     "output_type": "display_data"
    }
   ],
   "source": [
    "for i in range(0, 20, 1):\n",
    "    n_wins = sum(p > i for p in points)\n",
    "\n",
    "    prob = n_wins / n_games\n",
    "    # prob = round(prob, 3)\n",
    "    print(\"Probability of profit greater than : {} is {}\".format(i, prob))"
   ]
  },
  {
   "cell_type": "markdown",
   "metadata": {},
   "source": [
    "### What is the probability of making a loss greater than X?"
   ]
  },
  {
   "cell_type": "code",
   "execution_count": null,
   "metadata": {},
   "outputs": [],
   "source": []
  },
  {
   "cell_type": "code",
   "execution_count": 11,
   "metadata": {},
   "outputs": [
    {
     "name": "stdout",
     "output_type": "stream",
     "text": [
      "Probability of loss greater than : -20 is 0.0\n",
      "Probability of loss greater than : -19 is 0.0\n",
      "Probability of loss greater than : -18 is 0.0\n",
      "Probability of loss greater than : -17 is 0.0\n",
      "Probability of loss greater than : -16 is 0.0\n",
      "Probability of loss greater than : -15 is 0.0\n",
      "Probability of loss greater than : -14 is 0.0\n",
      "Probability of loss greater than : -13 is 0.01\n",
      "Probability of loss greater than : -12 is 0.01\n",
      "Probability of loss greater than : -11 is 0.02\n",
      "Probability of loss greater than : -10 is 0.02\n",
      "Probability of loss greater than : -9 is 0.03\n",
      "Probability of loss greater than : -8 is 0.05\n",
      "Probability of loss greater than : -7 is 0.07\n",
      "Probability of loss greater than : -6 is 0.08\n",
      "Probability of loss greater than : -5 is 0.09\n",
      "Probability of loss greater than : -4 is 0.13\n",
      "Probability of loss greater than : -3 is 0.18\n",
      "Probability of loss greater than : -2 is 0.21\n",
      "Probability of loss greater than : -1 is 0.24\n",
      "Probability of loss greater than : 0 is 0.29\n"
     ]
    },
    {
     "data": {
      "application/javascript": [
       "\n",
       "            setTimeout(function() {\n",
       "                var nbb_cell_id = 11;\n",
       "                var nbb_unformatted_code = \"for i in range(-20, 1, 1):\\n    n_wins = sum(p < i for p in points)\\n\\n    prob = n_wins / n_games\\n    prob = round(prob, 2)\\n    print(\\\"Probability of loss greater than : {} is {}\\\".format(i, prob))\";\n",
       "                var nbb_formatted_code = \"for i in range(-20, 1, 1):\\n    n_wins = sum(p < i for p in points)\\n\\n    prob = n_wins / n_games\\n    prob = round(prob, 2)\\n    print(\\\"Probability of loss greater than : {} is {}\\\".format(i, prob))\";\n",
       "                var nbb_cells = Jupyter.notebook.get_cells();\n",
       "                for (var i = 0; i < nbb_cells.length; ++i) {\n",
       "                    if (nbb_cells[i].input_prompt_number == nbb_cell_id) {\n",
       "                        if (nbb_cells[i].get_text() == nbb_unformatted_code) {\n",
       "                             nbb_cells[i].set_text(nbb_formatted_code);\n",
       "                        }\n",
       "                        break;\n",
       "                    }\n",
       "                }\n",
       "            }, 500);\n",
       "            "
      ],
      "text/plain": [
       "<IPython.core.display.Javascript object>"
      ]
     },
     "metadata": {},
     "output_type": "display_data"
    }
   ],
   "source": [
    "for i in range(-20, 1, 1):\n",
    "    n_wins = sum(p < i for p in points)\n",
    "\n",
    "    prob = n_wins / n_games\n",
    "    prob = round(prob, 2)\n",
    "    print(\"Probability of loss greater than : {} is {}\".format(i, prob))"
   ]
  },
  {
   "cell_type": "markdown",
   "metadata": {},
   "source": [
    "### What is the probability of making a exact profit of X?"
   ]
  },
  {
   "cell_type": "code",
   "execution_count": 12,
   "metadata": {},
   "outputs": [
    {
     "name": "stdout",
     "output_type": "stream",
     "text": [
      "Probability of making an exact profit of: 1 is 0.065\n",
      "Probability of making an exact profit of: 2 is 0.043\n",
      "Probability of making an exact profit of: 3 is 0.054\n",
      "Probability of making an exact profit of: 4 is 0.078\n",
      "Probability of making an exact profit of: 5 is 0.078\n",
      "Probability of making an exact profit of: 6 is 0.053\n",
      "Probability of making an exact profit of: 7 is 0.041\n",
      "Probability of making an exact profit of: 8 is 0.049\n",
      "Probability of making an exact profit of: 9 is 0.052\n",
      "Probability of making an exact profit of: 10 is 0.039\n",
      "Probability of making an exact profit of: 11 is 0.024\n",
      "Probability of making an exact profit of: 12 is 0.017\n",
      "Probability of making an exact profit of: 13 is 0.016\n",
      "Probability of making an exact profit of: 14 is 0.013\n",
      "Probability of making an exact profit of: 15 is 0.008\n",
      "Probability of making an exact profit of: 16 is 0.003\n",
      "Probability of making an exact profit of: 17 is 0.001\n",
      "Probability of making an exact profit of: 18 is 0.0\n",
      "Probability of making an exact profit of: 19 is 0.0\n"
     ]
    },
    {
     "data": {
      "application/javascript": [
       "\n",
       "            setTimeout(function() {\n",
       "                var nbb_cell_id = 12;\n",
       "                var nbb_unformatted_code = \"for i in range(1, 20, 1):\\n    n_wins = sum(p == i for p in points)\\n\\n    prob = n_wins / n_games\\n    prob = round(prob, 3)\\n    print(\\\"Probability of making an exact profit of: {} is {}\\\".format(i, prob))\";\n",
       "                var nbb_formatted_code = \"for i in range(1, 20, 1):\\n    n_wins = sum(p == i for p in points)\\n\\n    prob = n_wins / n_games\\n    prob = round(prob, 3)\\n    print(\\\"Probability of making an exact profit of: {} is {}\\\".format(i, prob))\";\n",
       "                var nbb_cells = Jupyter.notebook.get_cells();\n",
       "                for (var i = 0; i < nbb_cells.length; ++i) {\n",
       "                    if (nbb_cells[i].input_prompt_number == nbb_cell_id) {\n",
       "                        if (nbb_cells[i].get_text() == nbb_unformatted_code) {\n",
       "                             nbb_cells[i].set_text(nbb_formatted_code);\n",
       "                        }\n",
       "                        break;\n",
       "                    }\n",
       "                }\n",
       "            }, 500);\n",
       "            "
      ],
      "text/plain": [
       "<IPython.core.display.Javascript object>"
      ]
     },
     "metadata": {},
     "output_type": "display_data"
    }
   ],
   "source": [
    "for i in range(1, 20, 1):\n",
    "    n_wins = sum(p == i for p in points)\n",
    "\n",
    "    prob = n_wins / n_games\n",
    "    prob = round(prob, 3)\n",
    "    print(\"Probability of making an exact profit of: {} is {}\".format(i, prob))"
   ]
  },
  {
   "cell_type": "code",
   "execution_count": null,
   "metadata": {},
   "outputs": [],
   "source": []
  }
 ],
 "metadata": {
  "kernelspec": {
   "display_name": "Python 3 (ipykernel)",
   "language": "python",
   "name": "python3"
  },
  "language_info": {
   "codemirror_mode": {
    "name": "ipython",
    "version": 3
   },
   "file_extension": ".py",
   "mimetype": "text/x-python",
   "name": "python",
   "nbconvert_exporter": "python",
   "pygments_lexer": "ipython3",
   "version": "3.8.16"
  },
  "toc": {
   "base_numbering": 1,
   "nav_menu": {},
   "number_sections": true,
   "sideBar": true,
   "skip_h1_title": false,
   "title_cell": "Table of Contents",
   "title_sidebar": "Contents",
   "toc_cell": false,
   "toc_position": {},
   "toc_section_display": true,
   "toc_window_display": false
  }
 },
 "nbformat": 4,
 "nbformat_minor": 2
}
